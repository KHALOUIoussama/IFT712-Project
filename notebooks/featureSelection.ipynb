{
 "cells": [
  {
   "cell_type": "code",
   "execution_count": 4,
   "metadata": {},
   "outputs": [
    {
     "name": "stdout",
     "output_type": "stream",
     "text": [
      "The autoreload extension is already loaded. To reload it, use:\n",
      "  %reload_ext autoreload\n"
     ]
    }
   ],
   "source": [
    "%load_ext autoreload\n",
    "%autoreload 2"
   ]
  },
  {
   "cell_type": "code",
   "execution_count": 14,
   "metadata": {},
   "outputs": [],
   "source": [
    "import sys\n",
    "import matplotlib.pyplot as plt\n",
    "\n",
    "from sklearn.feature_selection import RFE\n",
    "\n",
    "sys.path.insert(0, '../src/data')\n",
    "sys.path.insert(0, '../src/features')\n",
    "sys.path.insert(0, '../src/models')\n",
    "sys.path.insert(0, '../src/visualization')\n",
    "\n",
    "from data_manager import DataManager\n",
    "\n",
    "from ada_boost import AdaBoost\n",
    "from decision_tree import DecisionTree\n",
    "from KNN import KNN\n",
    "from svm import Svm\n",
    "from neural_network import NeuralNetwork\n",
    "from perceptron import Perceptron\n"
   ]
  },
  {
   "cell_type": "code",
   "execution_count": 7,
   "metadata": {},
   "outputs": [],
   "source": [
    "raw_path = '../data/raw/train.csv'\n",
    "rawDataset = DataManager(raw_path, \"Raw dataser\")"
   ]
  },
  {
   "cell_type": "markdown",
   "metadata": {},
   "source": [
    "## Feature Selection"
   ]
  },
  {
   "cell_type": "code",
   "execution_count": 17,
   "metadata": {},
   "outputs": [],
   "source": [
    "def plot_rfe(estimator):\n",
    "    # Supposition que la fonction manage_data renvoie les bons ensembles de données\n",
    "    max_accuracy = 0\n",
    "    max_features = 0\n",
    "    accuracies = []\n",
    "    nb_features = rawDataset.constants.get_n_features()\n",
    "\n",
    "    for i in range(nb_features, 9, -20):\n",
    "        # Appliquer RFE\n",
    "        selector = RFE(estimator, n_features_to_select=i, step=1)\n",
    "        selector = selector.fit(rawDataset.x_train, rawDataset.t_train)\n",
    "        \n",
    "        # Transformer les caractéristiques d'entraînement et de test\n",
    "        x_train_selected = selector.transform(rawDataset.x_train)\n",
    "        x_test_selected = selector.transform(rawDataset.x_test)\n",
    "        \n",
    "        # Entraîner le modèle et évaluer la précision sur l'ensemble de test\n",
    "        estimator.fit(x_train_selected, rawDataset.t_train)\n",
    "        accuracy = estimator.score(x_test_selected, rawDataset.t_test)\n",
    "        accuracies.append(accuracy)\n",
    "        \n",
    "        if accuracy > max_accuracy:\n",
    "            max_accuracy = accuracy\n",
    "            max_features = i\n",
    "\n",
    "    # Plot the graph\n",
    "    plt.plot(range(nb_features, 9, -20), accuracies)\n",
    "    plt.xlabel('Number of features')\n",
    "    plt.ylabel('Test accuracy')\n",
    "    plt.title(f'Accuracy vs Number of features ({estimator.__class__.__name__})')\n",
    "    plt.annotate(f'Max Accuracy: {max_accuracy}\\nNumber of Features: {max_features}', xy=(max_features, max_accuracy), xytext=(max_features, max_accuracy + 0.05),\n",
    "                arrowprops=dict(facecolor='black', arrowstyle='->'))\n",
    "    filename = f\"{estimator.__class__.__name__}_RFE\"\n",
    "    plt.savefig(\"../graphs/\"+ filename)\n",
    "    plt.show()"
   ]
  },
  {
   "cell_type": "code",
   "execution_count": 15,
   "metadata": {},
   "outputs": [],
   "source": [
    "PerceptronModel = Perceptron()\n",
    "NeuralNetworkModel = NeuralNetwork()\n",
    "AdaBoostModel = AdaBoost()\n",
    "SvmModel = Svm()\n",
    "DecisionTreeModel = DecisionTree()\n",
    "KNNModel = KNN()\n",
    "\n",
    "models = [PerceptronModel, NeuralNetworkModel, AdaBoostModel, SvmModel, DecisionTreeModel, KNNModel]"
   ]
  },
  {
   "cell_type": "code",
   "execution_count": null,
   "metadata": {},
   "outputs": [],
   "source": [
    "for model in models:\n",
    "\tplot_rfe(model)"
   ]
  },
  {
   "cell_type": "code",
   "execution_count": 18,
   "metadata": {},
   "outputs": [
    {
     "ename": "ValueError",
     "evalue": "when `importance_getter=='auto'`, the underlying estimator KNeighborsClassifier should have `coef_` or `feature_importances_` attribute. Either pass a fitted estimator to feature selector or call fit before calling transform.",
     "output_type": "error",
     "traceback": [
      "\u001b[0;31m---------------------------------------------------------------------------\u001b[0m",
      "\u001b[0;31mValueError\u001b[0m                                Traceback (most recent call last)",
      "\u001b[1;32m/home/okhaloui/Documents/UDS/Techniques d'apprentissage/IFT712-Project/notebooks/featureSelection.ipynb Cell 8\u001b[0m line \u001b[0;36m1\n\u001b[1;32m      <a href='vscode-notebook-cell:/home/okhaloui/Documents/UDS/Techniques%20d%27apprentissage/IFT712-Project/notebooks/featureSelection.ipynb#X10sZmlsZQ%3D%3D?line=7'>8</a>\u001b[0m classifiers \u001b[39m=\u001b[39m [\n\u001b[1;32m      <a href='vscode-notebook-cell:/home/okhaloui/Documents/UDS/Techniques%20d%27apprentissage/IFT712-Project/notebooks/featureSelection.ipynb#X10sZmlsZQ%3D%3D?line=8'>9</a>\u001b[0m     KNeighborsClassifier(),\n\u001b[1;32m     <a href='vscode-notebook-cell:/home/okhaloui/Documents/UDS/Techniques%20d%27apprentissage/IFT712-Project/notebooks/featureSelection.ipynb#X10sZmlsZQ%3D%3D?line=9'>10</a>\u001b[0m     DecisionTreeClassifier(),\n\u001b[0;32m   (...)\u001b[0m\n\u001b[1;32m     <a href='vscode-notebook-cell:/home/okhaloui/Documents/UDS/Techniques%20d%27apprentissage/IFT712-Project/notebooks/featureSelection.ipynb#X10sZmlsZQ%3D%3D?line=13'>14</a>\u001b[0m     SVC(probability\u001b[39m=\u001b[39m\u001b[39mTrue\u001b[39;00m)\n\u001b[1;32m     <a href='vscode-notebook-cell:/home/okhaloui/Documents/UDS/Techniques%20d%27apprentissage/IFT712-Project/notebooks/featureSelection.ipynb#X10sZmlsZQ%3D%3D?line=14'>15</a>\u001b[0m ]\n\u001b[1;32m     <a href='vscode-notebook-cell:/home/okhaloui/Documents/UDS/Techniques%20d%27apprentissage/IFT712-Project/notebooks/featureSelection.ipynb#X10sZmlsZQ%3D%3D?line=17'>18</a>\u001b[0m \u001b[39mfor\u001b[39;00m classifier \u001b[39min\u001b[39;00m classifiers:\n\u001b[0;32m---> <a href='vscode-notebook-cell:/home/okhaloui/Documents/UDS/Techniques%20d%27apprentissage/IFT712-Project/notebooks/featureSelection.ipynb#X10sZmlsZQ%3D%3D?line=18'>19</a>\u001b[0m     plot_rfe(classifier)\n",
      "\u001b[1;32m/home/okhaloui/Documents/UDS/Techniques d'apprentissage/IFT712-Project/notebooks/featureSelection.ipynb Cell 8\u001b[0m line \u001b[0;36m1\n\u001b[1;32m      <a href='vscode-notebook-cell:/home/okhaloui/Documents/UDS/Techniques%20d%27apprentissage/IFT712-Project/notebooks/featureSelection.ipynb#X10sZmlsZQ%3D%3D?line=7'>8</a>\u001b[0m \u001b[39mfor\u001b[39;00m i \u001b[39min\u001b[39;00m \u001b[39mrange\u001b[39m(nb_features, \u001b[39m9\u001b[39m, \u001b[39m-\u001b[39m\u001b[39m20\u001b[39m):\n\u001b[1;32m      <a href='vscode-notebook-cell:/home/okhaloui/Documents/UDS/Techniques%20d%27apprentissage/IFT712-Project/notebooks/featureSelection.ipynb#X10sZmlsZQ%3D%3D?line=8'>9</a>\u001b[0m     \u001b[39m# Appliquer RFE\u001b[39;00m\n\u001b[1;32m     <a href='vscode-notebook-cell:/home/okhaloui/Documents/UDS/Techniques%20d%27apprentissage/IFT712-Project/notebooks/featureSelection.ipynb#X10sZmlsZQ%3D%3D?line=9'>10</a>\u001b[0m     selector \u001b[39m=\u001b[39m RFE(estimator, n_features_to_select\u001b[39m=\u001b[39mi, step\u001b[39m=\u001b[39m\u001b[39m1\u001b[39m)\n\u001b[0;32m---> <a href='vscode-notebook-cell:/home/okhaloui/Documents/UDS/Techniques%20d%27apprentissage/IFT712-Project/notebooks/featureSelection.ipynb#X10sZmlsZQ%3D%3D?line=10'>11</a>\u001b[0m     selector \u001b[39m=\u001b[39m selector\u001b[39m.\u001b[39;49mfit(rawDataset\u001b[39m.\u001b[39;49mx_train, rawDataset\u001b[39m.\u001b[39;49mt_train)\n\u001b[1;32m     <a href='vscode-notebook-cell:/home/okhaloui/Documents/UDS/Techniques%20d%27apprentissage/IFT712-Project/notebooks/featureSelection.ipynb#X10sZmlsZQ%3D%3D?line=12'>13</a>\u001b[0m     \u001b[39m# Transformer les caractéristiques d'entraînement et de test\u001b[39;00m\n\u001b[1;32m     <a href='vscode-notebook-cell:/home/okhaloui/Documents/UDS/Techniques%20d%27apprentissage/IFT712-Project/notebooks/featureSelection.ipynb#X10sZmlsZQ%3D%3D?line=13'>14</a>\u001b[0m     x_train_selected \u001b[39m=\u001b[39m selector\u001b[39m.\u001b[39mtransform(rawDataset\u001b[39m.\u001b[39mx_train)\n",
      "File \u001b[0;32m~/Documents/UDS/Techniques d'apprentissage/IFT712-Project/.venv/lib/python3.10/site-packages/sklearn/base.py:1152\u001b[0m, in \u001b[0;36m_fit_context.<locals>.decorator.<locals>.wrapper\u001b[0;34m(estimator, *args, **kwargs)\u001b[0m\n\u001b[1;32m   1145\u001b[0m     estimator\u001b[39m.\u001b[39m_validate_params()\n\u001b[1;32m   1147\u001b[0m \u001b[39mwith\u001b[39;00m config_context(\n\u001b[1;32m   1148\u001b[0m     skip_parameter_validation\u001b[39m=\u001b[39m(\n\u001b[1;32m   1149\u001b[0m         prefer_skip_nested_validation \u001b[39mor\u001b[39;00m global_skip_validation\n\u001b[1;32m   1150\u001b[0m     )\n\u001b[1;32m   1151\u001b[0m ):\n\u001b[0;32m-> 1152\u001b[0m     \u001b[39mreturn\u001b[39;00m fit_method(estimator, \u001b[39m*\u001b[39;49margs, \u001b[39m*\u001b[39;49m\u001b[39m*\u001b[39;49mkwargs)\n",
      "File \u001b[0;32m~/Documents/UDS/Techniques d'apprentissage/IFT712-Project/.venv/lib/python3.10/site-packages/sklearn/feature_selection/_rfe.py:249\u001b[0m, in \u001b[0;36mRFE.fit\u001b[0;34m(self, X, y, **fit_params)\u001b[0m\n\u001b[1;32m    225\u001b[0m \u001b[39m@_fit_context\u001b[39m(\n\u001b[1;32m    226\u001b[0m     \u001b[39m# RFE.estimator is not validated yet\u001b[39;00m\n\u001b[1;32m    227\u001b[0m     prefer_skip_nested_validation\u001b[39m=\u001b[39m\u001b[39mFalse\u001b[39;00m\n\u001b[1;32m    228\u001b[0m )\n\u001b[1;32m    229\u001b[0m \u001b[39mdef\u001b[39;00m \u001b[39mfit\u001b[39m(\u001b[39mself\u001b[39m, X, y, \u001b[39m*\u001b[39m\u001b[39m*\u001b[39mfit_params):\n\u001b[1;32m    230\u001b[0m \u001b[39m    \u001b[39m\u001b[39m\"\"\"Fit the RFE model and then the underlying estimator on the selected features.\u001b[39;00m\n\u001b[1;32m    231\u001b[0m \n\u001b[1;32m    232\u001b[0m \u001b[39m    Parameters\u001b[39;00m\n\u001b[0;32m   (...)\u001b[0m\n\u001b[1;32m    247\u001b[0m \u001b[39m        Fitted estimator.\u001b[39;00m\n\u001b[1;32m    248\u001b[0m \u001b[39m    \"\"\"\u001b[39;00m\n\u001b[0;32m--> 249\u001b[0m     \u001b[39mreturn\u001b[39;00m \u001b[39mself\u001b[39;49m\u001b[39m.\u001b[39;49m_fit(X, y, \u001b[39m*\u001b[39;49m\u001b[39m*\u001b[39;49mfit_params)\n",
      "File \u001b[0;32m~/Documents/UDS/Techniques d'apprentissage/IFT712-Project/.venv/lib/python3.10/site-packages/sklearn/feature_selection/_rfe.py:300\u001b[0m, in \u001b[0;36mRFE._fit\u001b[0;34m(self, X, y, step_score, **fit_params)\u001b[0m\n\u001b[1;32m    297\u001b[0m estimator\u001b[39m.\u001b[39mfit(X[:, features], y, \u001b[39m*\u001b[39m\u001b[39m*\u001b[39mfit_params)\n\u001b[1;32m    299\u001b[0m \u001b[39m# Get importance and rank them\u001b[39;00m\n\u001b[0;32m--> 300\u001b[0m importances \u001b[39m=\u001b[39m _get_feature_importances(\n\u001b[1;32m    301\u001b[0m     estimator,\n\u001b[1;32m    302\u001b[0m     \u001b[39mself\u001b[39;49m\u001b[39m.\u001b[39;49mimportance_getter,\n\u001b[1;32m    303\u001b[0m     transform_func\u001b[39m=\u001b[39;49m\u001b[39m\"\u001b[39;49m\u001b[39msquare\u001b[39;49m\u001b[39m\"\u001b[39;49m,\n\u001b[1;32m    304\u001b[0m )\n\u001b[1;32m    305\u001b[0m ranks \u001b[39m=\u001b[39m np\u001b[39m.\u001b[39margsort(importances)\n\u001b[1;32m    307\u001b[0m \u001b[39m# for sparse case ranks is matrix\u001b[39;00m\n",
      "File \u001b[0;32m~/Documents/UDS/Techniques d'apprentissage/IFT712-Project/.venv/lib/python3.10/site-packages/sklearn/feature_selection/_base.py:214\u001b[0m, in \u001b[0;36m_get_feature_importances\u001b[0;34m(estimator, getter, transform_func, norm_order)\u001b[0m\n\u001b[1;32m    212\u001b[0m         getter \u001b[39m=\u001b[39m attrgetter(\u001b[39m\"\u001b[39m\u001b[39mfeature_importances_\u001b[39m\u001b[39m\"\u001b[39m)\n\u001b[1;32m    213\u001b[0m     \u001b[39melse\u001b[39;00m:\n\u001b[0;32m--> 214\u001b[0m         \u001b[39mraise\u001b[39;00m \u001b[39mValueError\u001b[39;00m(\n\u001b[1;32m    215\u001b[0m             \u001b[39m\"\u001b[39m\u001b[39mwhen `importance_getter==\u001b[39m\u001b[39m'\u001b[39m\u001b[39mauto\u001b[39m\u001b[39m'\u001b[39m\u001b[39m`, the underlying \u001b[39m\u001b[39m\"\u001b[39m\n\u001b[1;32m    216\u001b[0m             \u001b[39mf\u001b[39m\u001b[39m\"\u001b[39m\u001b[39mestimator \u001b[39m\u001b[39m{\u001b[39;00mestimator\u001b[39m.\u001b[39m\u001b[39m__class__\u001b[39m\u001b[39m.\u001b[39m\u001b[39m__name__\u001b[39m\u001b[39m}\u001b[39;00m\u001b[39m should have \u001b[39m\u001b[39m\"\u001b[39m\n\u001b[1;32m    217\u001b[0m             \u001b[39m\"\u001b[39m\u001b[39m`coef_` or `feature_importances_` attribute. Either \u001b[39m\u001b[39m\"\u001b[39m\n\u001b[1;32m    218\u001b[0m             \u001b[39m\"\u001b[39m\u001b[39mpass a fitted estimator to feature selector or call fit \u001b[39m\u001b[39m\"\u001b[39m\n\u001b[1;32m    219\u001b[0m             \u001b[39m\"\u001b[39m\u001b[39mbefore calling transform.\u001b[39m\u001b[39m\"\u001b[39m\n\u001b[1;32m    220\u001b[0m         )\n\u001b[1;32m    221\u001b[0m \u001b[39melse\u001b[39;00m:\n\u001b[1;32m    222\u001b[0m     getter \u001b[39m=\u001b[39m attrgetter(getter)\n",
      "\u001b[0;31mValueError\u001b[0m: when `importance_getter=='auto'`, the underlying estimator KNeighborsClassifier should have `coef_` or `feature_importances_` attribute. Either pass a fitted estimator to feature selector or call fit before calling transform."
     ]
    }
   ],
   "source": [
    "from sklearn.tree import DecisionTreeClassifier\n",
    "from sklearn.linear_model import Perceptron\n",
    "from sklearn.neural_network import MLPClassifier\n",
    "from sklearn.ensemble import AdaBoostClassifier\n",
    "from sklearn.svm import SVC\n",
    "from sklearn.neighbors import KNeighborsClassifier\n",
    " \n",
    "classifiers = [\n",
    "    KNeighborsClassifier(),\n",
    "    DecisionTreeClassifier(),\n",
    "    Perceptron(),\n",
    "    MLPClassifier(),\n",
    "    AdaBoostClassifier(),\n",
    "    SVC(probability=True)\n",
    "]\n",
    " \n",
    " \n",
    "for classifier in classifiers:\n",
    "    plot_rfe(classifier)"
   ]
  }
 ],
 "metadata": {
  "kernelspec": {
   "display_name": ".venv",
   "language": "python",
   "name": "python3"
  },
  "language_info": {
   "codemirror_mode": {
    "name": "ipython",
    "version": 3
   },
   "file_extension": ".py",
   "mimetype": "text/x-python",
   "name": "python",
   "nbconvert_exporter": "python",
   "pygments_lexer": "ipython3",
   "version": "3.10.12"
  }
 },
 "nbformat": 4,
 "nbformat_minor": 2
}
