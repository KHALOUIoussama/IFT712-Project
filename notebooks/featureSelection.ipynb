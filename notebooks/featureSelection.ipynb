{
 "cells": [
  {
   "cell_type": "code",
   "execution_count": 7,
   "metadata": {},
   "outputs": [
    {
     "name": "stdout",
     "output_type": "stream",
     "text": [
      "The autoreload extension is already loaded. To reload it, use:\n",
      "  %reload_ext autoreload\n"
     ]
    }
   ],
   "source": [
    "%load_ext autoreload\n",
    "%autoreload 2"
   ]
  },
  {
   "cell_type": "code",
   "execution_count": 21,
   "metadata": {},
   "outputs": [],
   "source": [
    "import sys\n",
    "import matplotlib.pyplot as plt\n",
    "\n",
    "from sklearn.feature_selection import RFE\n",
    "\n",
    "sys.path.insert(0, '../src/data')\n",
    "sys.path.insert(0, '../src/features')\n",
    "sys.path.insert(0, '../src/models')\n",
    "sys.path.insert(0, '../src/visualization')\n",
    "\n",
    "from data_manager import DataManager\n",
    "\n",
    "from ada_boost import AdaBoost\n",
    "from decision_tree import DecisionTree\n",
    "from k_means import KMeans\n",
    "from svm import Svm\n",
    "from neural_network import NeuralNetwork\n",
    "from perceptron import Perceptron\n",
    "\n",
    "import tqdm"
   ]
  },
  {
   "cell_type": "code",
   "execution_count": 22,
   "metadata": {},
   "outputs": [],
   "source": [
    "raw_path = '../data/raw/train.csv'\n",
    "rawDataset = DataManager(raw_path, \"Raw dataser\")"
   ]
  },
  {
   "cell_type": "markdown",
   "metadata": {},
   "source": [
    "## Feature Selection"
   ]
  },
  {
   "cell_type": "code",
   "execution_count": 23,
   "metadata": {},
   "outputs": [],
   "source": [
    "def plot_rfe(estimator):\n",
    "    # Supposition que la fonction manage_data renvoie les bons ensembles de données\n",
    "    max_accuracy = 0\n",
    "    max_features = 0\n",
    "    accuracies = []\n",
    "    nb_features = rawDataset.constants.get_n_features()\n",
    "\n",
    "    for i in tqdm.tqdm(range(nb_features, 9, -20)):\n",
    "        # Appliquer RFE\n",
    "        selector = RFE(estimator, n_features_to_select=i, step=1)\n",
    "        selector = selector.fit(rawDataset.x_train, rawDataset.t_train)\n",
    "        \n",
    "        # Transformer les caractéristiques d'entraînement et de test\n",
    "        x_train_selected = selector.transform(rawDataset.x_train)\n",
    "        x_test_selected = selector.transform(rawDataset.x_test)\n",
    "        \n",
    "        # Entraîner le modèle et évaluer la précision sur l'ensemble de test\n",
    "        estimator.fit(x_train_selected, rawDataset.t_train)\n",
    "        accuracy = estimator.score(x_test_selected, rawDataset.t_test)\n",
    "        accuracies.append(accuracy)\n",
    "        \n",
    "        if accuracy > max_accuracy:\n",
    "            max_accuracy = accuracy\n",
    "            max_features = i\n",
    "\n",
    "    # Plot the graph\n",
    "    plt.plot(range(nb_features, 9, -20), accuracies)\n",
    "    plt.xlabel('Number of features')\n",
    "    plt.ylabel('Test accuracy')\n",
    "    plt.title(f'Accuracy vs Number of features ({estimator.__class__.__name__})')\n",
    "    plt.annotate(f'Max Accuracy: {max_accuracy}\\nNumber of Features: {max_features}', xy=(max_features, max_accuracy), xytext=(max_features, max_accuracy + 0.05),\n",
    "                arrowprops=dict(facecolor='black', arrowstyle='->'))\n",
    "    filename = f\"{estimator.__class__.__name__}_RFE\"\n",
    "    plt.savefig(\"../graphs/\"+ filename)\n",
    "    plt.show()"
   ]
  },
  {
   "cell_type": "code",
   "execution_count": 24,
   "metadata": {},
   "outputs": [],
   "source": [
    "PerceptronModel = Perceptron()\n",
    "NeuralNetworkModel = NeuralNetwork()\n",
    "AdaBoostModel = AdaBoost()\n",
    "SvmModel = Svm()\n",
    "DecisionTreeModel = DecisionTree()\n",
    "KMeansModel = KMeans(rawDataset.constants.get_n_labels())\n",
    "\n",
    "models = [PerceptronModel, NeuralNetworkModel, AdaBoostModel, SvmModel, DecisionTreeModel, KMeansModel]"
   ]
  },
  {
   "cell_type": "code",
   "execution_count": 6,
   "metadata": {},
   "outputs": [],
   "source": [
    "for model in models:\n",
    "\tplot_rfe(model)"
   ]
  },
  {
   "cell_type": "code",
   "execution_count": 28,
   "metadata": {},
   "outputs": [],
   "source": [
    "from sklearn.tree import DecisionTreeClassifier\n",
    "from sklearn.linear_model import Perceptron\n",
    "from sklearn.neural_network import MLPClassifier\n",
    "from sklearn.ensemble import AdaBoostClassifier\n",
    "from sklearn.svm import SVC\n",
    "from sklearn.cluster import KMeans\n",
    " \n",
    "classifiers = [\n",
    "    DecisionTreeClassifier(),\n",
    "    Perceptron(),\n",
    "    MLPClassifier(),\n",
    "    AdaBoostClassifier(),\n",
    "    SVC(probability=True),\n",
    "    KMeans(n_clusters=99)\n",
    "]\n",
    " \n",
    " \n",
    "for classifier in classifiers:\n",
    "    plot_rfe(classifier)"
   ]
  }
 ],
 "metadata": {
  "kernelspec": {
   "display_name": ".venv",
   "language": "python",
   "name": "python3"
  },
  "language_info": {
   "codemirror_mode": {
    "name": "ipython",
    "version": 3
   },
   "file_extension": ".py",
   "mimetype": "text/x-python",
   "name": "python",
   "nbconvert_exporter": "python",
   "pygments_lexer": "ipython3",
   "version": "3.10.12"
  }
 },
 "nbformat": 4,
 "nbformat_minor": 2
}
