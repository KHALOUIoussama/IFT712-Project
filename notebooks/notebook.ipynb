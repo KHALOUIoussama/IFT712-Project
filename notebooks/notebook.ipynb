{
 "cells": [
  {
   "cell_type": "code",
   "execution_count": 1,
   "metadata": {},
   "outputs": [],
   "source": [
    "import sys\n",
    "sys.path.insert(0, '../src/data')\n",
    "sys.path.insert(0, '../src/features')\n",
    "sys.path.insert(0, '../src/models')\n",
    "sys.path.insert(0, '../src/visualization')\n",
    "\n",
    "from data_manager import DataManager\n",
    "from constants import Constants\n",
    "\n",
    "from ada_boost import AdaBoost\n",
    "from decision_tree import DecisionTree\n",
    "from k_means import KMeans\n",
    "from svm import Svm\n",
    "from neural_network import NeuralNetwork\n",
    "from perceptron import Perceptron\n",
    "\n",
    "from visualize import Visualize"
   ]
  },
  {
   "cell_type": "markdown",
   "metadata": {},
   "source": [
    "## Chargement des données"
   ]
  },
  {
   "cell_type": "code",
   "execution_count": 2,
   "metadata": {},
   "outputs": [
    {
     "name": "stdout",
     "output_type": "stream",
     "text": [
      "x_train.shape: (792, 192)\n",
      "x_test.shape: (198, 192)\n",
      "t_train.shape: (792,)\n",
      "t_test.shape: (198,)\n"
     ]
    }
   ],
   "source": [
    "dataManager = DataManager()\n",
    "\n",
    "constants, x_train, x_test, t_train, t_test = dataManager.load_data()\n",
    "# constants.print()\n",
    "t_train_onehot = dataManager.one_hot_encoding(t_train)\n",
    "t_test_onehot = dataManager.one_hot_encoding(t_test)\n",
    "\n",
    "print(f\"x_train.shape: {x_train.shape}\")\n",
    "print(f\"x_test.shape: {x_test.shape}\")\n",
    "print(f\"t_train.shape: {t_train.shape}\")\n",
    "print(f\"t_test.shape: {t_test.shape}\")\n"
   ]
  },
  {
   "cell_type": "markdown",
   "metadata": {},
   "source": [
    "## Préparation du modèle"
   ]
  },
  {
   "cell_type": "code",
   "execution_count": 3,
   "metadata": {},
   "outputs": [],
   "source": [
    "constants.set_training_parameters(epochs=100, learning_rate=0.01, batch_size=100)"
   ]
  },
  {
   "cell_type": "code",
   "execution_count": 4,
   "metadata": {},
   "outputs": [],
   "source": [
    "# model = AdaBoost(constants)\n",
    "# model = DecisionTree(constants)\n",
    "# model = KMeans(constants)\n",
    "# model = Svm(constants)\n",
    "# model = NeuralNetwork(constants)\n",
    "model = Perceptron(constants)"
   ]
  },
  {
   "cell_type": "code",
   "execution_count": 5,
   "metadata": {},
   "outputs": [],
   "source": [
    "hyperparameters = model.find_optimal_hyperparameters(x_train, t_train, {})"
   ]
  },
  {
   "cell_type": "markdown",
   "metadata": {},
   "source": [
    "## Apprentissage du modèle"
   ]
  },
  {
   "cell_type": "code",
   "execution_count": 6,
   "metadata": {},
   "outputs": [
    {
     "name": "stderr",
     "output_type": "stream",
     "text": [
      "/home/timwhity/Documents/0_Sherbrooke/CoursSherbrooke/IFT712-Technique d'apprentissage/TPOussama/Projet/.venv/lib/python3.10/site-packages/sklearn/linear_model/_stochastic_gradient.py:713: ConvergenceWarning: Maximum number of iteration reached before convergence. Consider increasing max_iter to improve the fit.\n",
      "  warnings.warn(\n"
     ]
    }
   ],
   "source": [
    "model.train(x_train, t_train, hyperparameters)"
   ]
  },
  {
   "cell_type": "markdown",
   "metadata": {},
   "source": [
    "## Tests et visualisation"
   ]
  },
  {
   "cell_type": "code",
   "execution_count": 7,
   "metadata": {},
   "outputs": [],
   "source": [
    "t_pred = model.predict(x_test)"
   ]
  },
  {
   "cell_type": "code",
   "execution_count": 8,
   "metadata": {},
   "outputs": [
    {
     "name": "stdout",
     "output_type": "stream",
     "text": [
      "TP = 0, FP = 1, FN = 0, label = Acer_Pictum\n"
     ]
    },
    {
     "ename": "NameError",
     "evalue": "name 'exit' is not defined",
     "output_type": "error",
     "traceback": [
      "\u001b[0;31m---------------------------------------------------------------------------\u001b[0m",
      "\u001b[0;31mNameError\u001b[0m                                 Traceback (most recent call last)",
      "\u001b[1;32m/home/timwhity/Documents/0_Sherbrooke/CoursSherbrooke/IFT712-Technique d'apprentissage/TPOussama/Projet/notebooks/notebook.ipynb Cellule 12\u001b[0m line \u001b[0;36m1\n\u001b[0;32m----> <a href='vscode-notebook-cell:/home/timwhity/Documents/0_Sherbrooke/CoursSherbrooke/IFT712-Technique%20d%27apprentissage/TPOussama/Projet/notebooks/notebook.ipynb#X14sZmlsZQ%3D%3D?line=0'>1</a>\u001b[0m visualize \u001b[39m=\u001b[39m Visualize(constants, t_pred, t_test)\n",
      "File \u001b[0;32m~/Documents/0_Sherbrooke/CoursSherbrooke/IFT712-Technique d'apprentissage/TPOussama/Projet/notebooks/../src/visualization/visualize.py:26\u001b[0m, in \u001b[0;36mVisualize.__init__\u001b[0;34m(self, constants, t_test, t_pred)\u001b[0m\n\u001b[1;32m     24\u001b[0m \u001b[39mself\u001b[39m\u001b[39m.\u001b[39mt_test \u001b[39m=\u001b[39m t_test\n\u001b[1;32m     25\u001b[0m \u001b[39mself\u001b[39m\u001b[39m.\u001b[39mt_pred \u001b[39m=\u001b[39m t_pred\n\u001b[0;32m---> 26\u001b[0m \u001b[39mself\u001b[39;49m\u001b[39m.\u001b[39;49mcompute_scores()\n",
      "File \u001b[0;32m~/Documents/0_Sherbrooke/CoursSherbrooke/IFT712-Technique d'apprentissage/TPOussama/Projet/notebooks/../src/visualization/visualize.py:45\u001b[0m, in \u001b[0;36mVisualize.compute_scores\u001b[0;34m(self)\u001b[0m\n\u001b[1;32m     43\u001b[0m \u001b[39mif\u001b[39;00m TP \u001b[39m+\u001b[39m FP \u001b[39m==\u001b[39m \u001b[39m0\u001b[39m \u001b[39mor\u001b[39;00m TP \u001b[39m+\u001b[39m FN \u001b[39m==\u001b[39m \u001b[39m0\u001b[39m:\n\u001b[1;32m     44\u001b[0m \t\u001b[39mprint\u001b[39m(\u001b[39mf\u001b[39m\u001b[39m\"\u001b[39m\u001b[39mTP = \u001b[39m\u001b[39m{\u001b[39;00mTP\u001b[39m}\u001b[39;00m\u001b[39m, FP = \u001b[39m\u001b[39m{\u001b[39;00mFP\u001b[39m}\u001b[39;00m\u001b[39m, FN = \u001b[39m\u001b[39m{\u001b[39;00mFN\u001b[39m}\u001b[39;00m\u001b[39m, label = \u001b[39m\u001b[39m{\u001b[39;00m\u001b[39mself\u001b[39m\u001b[39m.\u001b[39mconstants\u001b[39m.\u001b[39mget_labels()[i]\u001b[39m}\u001b[39;00m\u001b[39m\"\u001b[39m)\n\u001b[0;32m---> 45\u001b[0m \texit()\n\u001b[1;32m     47\u001b[0m \u001b[39mself\u001b[39m\u001b[39m.\u001b[39mprecision\u001b[39m.\u001b[39mappend(TP \u001b[39m/\u001b[39m (TP \u001b[39m+\u001b[39m FP))\n\u001b[1;32m     48\u001b[0m \u001b[39mself\u001b[39m\u001b[39m.\u001b[39mrecall\u001b[39m.\u001b[39mappend(TP \u001b[39m/\u001b[39m (TP \u001b[39m+\u001b[39m FN))\n",
      "\u001b[0;31mNameError\u001b[0m: name 'exit' is not defined"
     ]
    }
   ],
   "source": [
    "visualize = Visualize(constants, t_pred, t_test)"
   ]
  },
  {
   "cell_type": "code",
   "execution_count": null,
   "metadata": {},
   "outputs": [
    {
     "name": "stdout",
     "output_type": "stream",
     "text": [
      "===========================================\n",
      "|         Label        | Precision | Recall | F1 Score |\n",
      "|----------------------|-----------|--------|----------|\n",
      "| Acer_Capillipes      | 1.000     | 1.000  | 1.000    |\n",
      "| Acer_Circinatum      | 1.000     | 1.000  | 1.000    |\n",
      "| Acer_Mono            | nan       | 0.000  | nan      |\n",
      "| Acer_Opalus          | 1.000     | 1.000  | 1.000    |\n",
      "| Acer_Palmatum        | 1.000     | 1.000  | 1.000    |\n",
      "| Acer_Pictum          | 0.800     | 1.000  | 0.889    |\n",
      "| Acer_Platanoids      | nan       | nan    | nan      |\n",
      "| Acer_Rubrum          | 1.000     | 1.000  | 1.000    |\n",
      "| Acer_Rufinerve       | 1.000     | 1.000  | 1.000    |\n",
      "| Acer_Saccharinum     | 0.500     | 1.000  | 0.667    |\n",
      "| Alnus_Cordata        | 0.333     | 1.000  | 0.500    |\n",
      "| Alnus_Maximowiczii   | nan       | nan    | nan      |\n",
      "| Alnus_Rubra          | 1.000     | 0.750  | 0.857    |\n",
      "| Alnus_Sieboldiana    | 1.000     | 1.000  | 1.000    |\n",
      "| Alnus_Viridis        | 1.000     | 1.000  | 1.000    |\n",
      "| Arundinaria_Simonii  | nan       | nan    | nan      |\n",
      "| Betula_Austrosine... | 1.000     | 1.000  | 1.000    |\n",
      "| Betula_Pendula       | 0.000     | nan    | nan      |\n",
      "| Callicarpa_Bodini... | 1.000     | 1.000  | 1.000    |\n",
      "| Castanea_Sativa      | 1.000     | 1.000  | 1.000    |\n",
      "| Celtis_Koraiensis    | 1.000     | 1.000  | 1.000    |\n",
      "| Cercis_Siliquastrum  | 1.000     | 0.400  | 0.571    |\n",
      "| Cornus_Chinensis     | 1.000     | 0.500  | 0.667    |\n",
      "| Cornus_Controversa   | 1.000     | 0.500  | 0.667    |\n",
      "| Cornus_Macrophylla   | 1.000     | 1.000  | 1.000    |\n",
      "| Cotinus_Coggygria    | nan       | nan    | nan      |\n",
      "| Crataegus_Monogyna   | 1.000     | 1.000  | 1.000    |\n",
      "| Cytisus_Battandieri  | 1.000     | 1.000  | 1.000    |\n",
      "| Eucalyptus_Glauce... | 0.000     | 0.000  | nan      |\n",
      "| Eucalyptus_Neglecta  | 0.000     | nan    | nan      |\n",
      "| Eucalyptus_Urnigera  | 0.000     | nan    | nan      |\n",
      "| Fagus_Sylvatica      | 0.667     | 1.000  | 0.800    |\n",
      "| Ginkgo_Biloba        | 1.000     | 0.750  | 0.857    |\n",
      "| Ilex_Aquifolium      | 0.750     | 1.000  | 0.857    |\n",
      "| Ilex_Cornuta         | 1.000     | 0.750  | 0.857    |\n",
      "| Liquidambar_Styra... | 1.000     | 1.000  | 1.000    |\n",
      "| Liriodendron_Tuli... | 1.000     | 1.000  | 1.000    |\n",
      "| Lithocarpus_Cleis... | 1.000     | 1.000  | 1.000    |\n",
      "| Lithocarpus_Edulis   | 1.000     | 0.800  | 0.889    |\n",
      "| Magnolia_Heptapeta   | 0.000     | nan    | nan      |\n",
      "| Magnolia_Salicifo... | nan       | nan    | nan      |\n",
      "| Morus_Nigra          | 0.667     | 1.000  | 0.800    |\n",
      "| Olea_Europaea        | 1.000     | 1.000  | 1.000    |\n",
      "| Phildelphus          | nan       | nan    | nan      |\n",
      "| Populus_Adenopoda    | 1.000     | 0.500  | 0.667    |\n",
      "| Populus_Grandiden... | 1.000     | 1.000  | 1.000    |\n",
      "| Populus_Nigra        | 1.000     | 1.000  | 1.000    |\n",
      "| Prunus_Avium         | 0.250     | 1.000  | 0.400    |\n",
      "| Prunus_X_Shmittii    | 1.000     | 0.250  | 0.400    |\n",
      "| Pterocarya_Stenop... | 0.667     | 1.000  | 0.800    |\n",
      "| Quercus_Afares       | 1.000     | 1.000  | 1.000    |\n",
      "| Quercus_Agrifolia    | 1.000     | 1.000  | 1.000    |\n",
      "| Quercus_Alnifolia    | 1.000     | 0.500  | 0.667    |\n",
      "| Quercus_Brantii      | 1.000     | 1.000  | 1.000    |\n",
      "| Quercus_Canariensis  | 1.000     | 0.667  | 0.800    |\n",
      "| Quercus_Castaneif... | 1.000     | 0.500  | 0.667    |\n",
      "| Quercus_Cerris       | 1.000     | 1.000  | 1.000    |\n",
      "| Quercus_Chrysolepis  | 0.333     | 1.000  | 0.500    |\n",
      "| Quercus_Coccifera    | 0.000     | nan    | nan      |\n",
      "| Quercus_Coccinea     | nan       | nan    | nan      |\n",
      "| Quercus_Crassifolia  | 1.000     | 1.000  | 1.000    |\n",
      "| Quercus_Crassipes    | 0.500     | 1.000  | 0.667    |\n",
      "| Quercus_Dolichole... | 1.000     | 0.750  | 0.857    |\n",
      "| Quercus_Ellipsoid... | 1.000     | 0.500  | 0.667    |\n",
      "| Quercus_Greggii      | 1.000     | 1.000  | 1.000    |\n",
      "| Quercus_Hartwissi... | 1.000     | 1.000  | 1.000    |\n",
      "| Quercus_Ilex         | 0.667     | 1.000  | 0.800    |\n",
      "| Quercus_Imbricaria   | 1.000     | 0.667  | 0.800    |\n",
      "| Quercus_Infectori... | 1.000     | 1.000  | 1.000    |\n",
      "| Quercus_Kewensis     | 0.000     | nan    | nan      |\n",
      "| Quercus_Nigra        | 1.000     | 1.000  | 1.000    |\n",
      "| Quercus_Palustris    | 0.000     | nan    | nan      |\n",
      "| Quercus_Phellos      | 1.000     | 1.000  | 1.000    |\n",
      "| Quercus_Phillyrae... | 1.000     | 0.667  | 0.800    |\n",
      "| Quercus_Pontica      | 1.000     | 1.000  | 1.000    |\n",
      "| Quercus_Pubescens    | 0.667     | 1.000  | 0.800    |\n",
      "| Quercus_Pyrenaica    | 1.000     | 1.000  | 1.000    |\n",
      "| Quercus_Rhysophylla  | 1.000     | 1.000  | 1.000    |\n",
      "| Quercus_Rubra        | 1.000     | 1.000  | 1.000    |\n",
      "| Quercus_Semecarpi... | 1.000     | 1.000  | 1.000    |\n",
      "| Quercus_Shumardii    | 1.000     | 0.750  | 0.857    |\n",
      "| Quercus_Suber        | nan       | nan    | nan      |\n",
      "| Quercus_Texana       | 1.000     | 1.000  | 1.000    |\n",
      "| Quercus_Trojana      | 1.000     | 1.000  | 1.000    |\n",
      "| Quercus_Variabilis   | 1.000     | 1.000  | 1.000    |\n",
      "| Quercus_Vulcanica    | 1.000     | 1.000  | 1.000    |\n",
      "| Quercus_x_Hispanica  | 1.000     | 1.000  | 1.000    |\n",
      "| Quercus_x_Turneri    | 0.500     | 1.000  | 0.667    |\n",
      "| Rhododendron_x_Ru... | 1.000     | 0.333  | 0.500    |\n",
      "| Salix_Fragilis       | 0.667     | 1.000  | 0.800    |\n",
      "| Salix_Intergra       | 1.000     | 0.600  | 0.750    |\n",
      "| Sorbus_Aria          | 1.000     | 1.000  | 1.000    |\n",
      "| Tilia_Oliveri        | 1.000     | 0.250  | 0.400    |\n",
      "| Tilia_Platyphyllos   | 1.000     | 0.500  | 0.667    |\n",
      "| Tilia_Tomentosa      | 1.000     | 0.750  | 0.857    |\n",
      "| Ulmus_Bergmanniana   | 0.500     | 1.000  | 0.667    |\n",
      "| Viburnum_Tinus       | 1.000     | 0.500  | 0.667    |\n",
      "| Viburnum_x_Rhytid... | 0.500     | 1.000  | 0.667    |\n",
      "| Zelkova_Serrata      | 1.000     | 1.000  | 1.000    |\n",
      "===========================================\n",
      "| Mean                 | Precision | Recall | F1 Score |\n",
      "|----------------------|-----------|--------|----------|\n",
      "|                      | nan       | nan    | nan      |\n"
     ]
    }
   ],
   "source": [
    "visualize.print_labels_scores()\n",
    "# visualize.print_mean_scores()"
   ]
  },
  {
   "cell_type": "code",
   "execution_count": 10,
   "metadata": {},
   "outputs": [
    {
     "ename": "AttributeError",
     "evalue": "'Constants' object has no attribute 'labels'",
     "output_type": "error",
     "traceback": [
      "\u001b[0;31m---------------------------------------------------------------------------\u001b[0m",
      "\u001b[0;31mAttributeError\u001b[0m                            Traceback (most recent call last)",
      "\u001b[1;32m/home/timwhity/Documents/0_Sherbrooke/CoursSherbrooke/IFT712-Technique d'apprentissage/TPOussama/Projet/notebooks/notebook.ipynb Cellule 14\u001b[0m line \u001b[0;36m1\n\u001b[0;32m----> <a href='vscode-notebook-cell:/home/timwhity/Documents/0_Sherbrooke/CoursSherbrooke/IFT712-Technique%20d%27apprentissage/TPOussama/Projet/notebooks/notebook.ipynb#X16sZmlsZQ%3D%3D?line=0'>1</a>\u001b[0m visualize\u001b[39m.\u001b[39;49mplot_confusion_matrix()\n",
      "File \u001b[0;32m~/Documents/0_Sherbrooke/CoursSherbrooke/IFT712-Technique d'apprentissage/TPOussama/Projet/notebooks/../src/visualization/visualize.py:91\u001b[0m, in \u001b[0;36mVisualize.plot_confusion_matrix\u001b[0;34m(self)\u001b[0m\n\u001b[1;32m     89\u001b[0m plt\u001b[39m.\u001b[39mcolorbar()\n\u001b[1;32m     90\u001b[0m tick_marks \u001b[39m=\u001b[39m np\u001b[39m.\u001b[39marange(\u001b[39mself\u001b[39m\u001b[39m.\u001b[39mconstants\u001b[39m.\u001b[39mget_n_labels())\n\u001b[0;32m---> 91\u001b[0m plt\u001b[39m.\u001b[39mxticks(tick_marks, \u001b[39mself\u001b[39;49m\u001b[39m.\u001b[39;49mconstants\u001b[39m.\u001b[39;49mlabels, rotation\u001b[39m=\u001b[39m\u001b[39m90\u001b[39m)\n\u001b[1;32m     92\u001b[0m plt\u001b[39m.\u001b[39myticks(tick_marks, \u001b[39mself\u001b[39m\u001b[39m.\u001b[39mconstants\u001b[39m.\u001b[39mlabels)\n\u001b[1;32m     93\u001b[0m plt\u001b[39m.\u001b[39mtight_layout()\n",
      "\u001b[0;31mAttributeError\u001b[0m: 'Constants' object has no attribute 'labels'"
     ]
    },
    {
     "data": {
      "image/png": "[encoded data removed]",
      "text/plain": [
       "<Figure size 1000x1000 with 2 Axes>"
      ]
     },
     "metadata": {},
     "output_type": "display_data"
    }
   ],
   "source": [
    "visualize.plot_confusion_matrix()"
   ]
  },
  {
   "cell_type": "code",
   "execution_count": null,
   "metadata": {},
   "outputs": [],
   "source": []
  }
 ],
 "metadata": {
  "kernelspec": {
   "display_name": ".venv",
   "language": "python",
   "name": "python3"
  },
  "language_info": {
   "codemirror_mode": {
    "name": "ipython",
    "version": 3
   },
   "file_extension": ".py",
   "mimetype": "text/x-python",
   "name": "python",
   "nbconvert_exporter": "python",
   "pygments_lexer": "ipython3",
   "version": "3.10.12"
  }
 },
 "nbformat": 4,
 "nbformat_minor": 2
}
