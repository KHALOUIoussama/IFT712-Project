{
 "cells": [
  {
   "cell_type": "code",
   "execution_count": 9,
   "metadata": {},
   "outputs": [
    {
     "name": "stdout",
     "output_type": "stream",
     "text": [
      "The autoreload extension is already loaded. To reload it, use:\n",
      "  %reload_ext autoreload\n"
     ]
    }
   ],
   "source": [
    "%load_ext autoreload\n",
    "%autoreload 2"
   ]
  },
  {
   "cell_type": "code",
   "execution_count": 50,
   "metadata": {},
   "outputs": [],
   "source": [
    "import sys\n",
    "import pandas as pd\n",
    "\n",
    "sys.path.insert(0, '../src/data')\n",
    "sys.path.insert(0, '../src/features')\n",
    "sys.path.insert(0, '../src/models')\n",
    "sys.path.insert(0, '../src/visualization')\n",
    "\n",
    "from data_manager import DataManager\n",
    "from pretreatment import load_raw_data, save_raw_data, create_superclasses\n",
    "from constants import Constants\n",
    "\n",
    "from ada_boost import AdaBoost\n",
    "from decision_tree import DecisionTree\n",
    "from k_means import KMeans\n",
    "from svm import Svm\n",
    "from neural_network import NeuralNetwork\n",
    "from perceptron import Perceptron\n",
    "\n",
    "from visualize import Visualize"
   ]
  },
  {
   "cell_type": "markdown",
   "metadata": {},
   "source": [
    "## Prétraitement des données"
   ]
  },
  {
   "cell_type": "code",
   "execution_count": 16,
   "metadata": {},
   "outputs": [],
   "source": [
    "raw_path = '../data/raw/train.csv'\n",
    "superclasses_path = '../data/processed/superclasses.csv'"
   ]
  },
  {
   "cell_type": "markdown",
   "metadata": {},
   "source": [
    "### Superclasses"
   ]
  },
  {
   "cell_type": "code",
   "execution_count": 4,
   "metadata": {},
   "outputs": [],
   "source": [
    "# create_superclasses(raw_path, superclasses_path)"
   ]
  },
  {
   "cell_type": "markdown",
   "metadata": {},
   "source": [
    "## Chargement des données"
   ]
  },
  {
   "cell_type": "code",
   "execution_count": 17,
   "metadata": {},
   "outputs": [],
   "source": [
    "path = raw_path\n",
    "# path = superclasses_path"
   ]
  },
  {
   "cell_type": "code",
   "execution_count": 18,
   "metadata": {},
   "outputs": [
    {
     "name": "stdout",
     "output_type": "stream",
     "text": [
      "x_train.shape: (792, 192)\n",
      "x_test.shape: (198, 192)\n",
      "t_train.shape: (792,)\n",
      "t_test.shape: (198,)\n"
     ]
    }
   ],
   "source": [
    "dataManager = DataManager(path=path)\n",
    "\n",
    "constants, x_train, x_test, t_train, t_test = dataManager.load_data()\n",
    "# constants.print()\n",
    "t_train_onehot = dataManager.one_hot_encoding(t_train)\n",
    "t_test_onehot = dataManager.one_hot_encoding(t_test)\n",
    "\n",
    "print(f\"x_train.shape: {x_train.shape}\")\n",
    "print(f\"x_test.shape: {x_test.shape}\")\n",
    "print(f\"t_train.shape: {t_train.shape}\")\n",
    "print(f\"t_test.shape: {t_test.shape}\")\n"
   ]
  },
  {
   "cell_type": "markdown",
   "metadata": {},
   "source": [
    "## Préparation du modèle"
   ]
  },
  {
   "cell_type": "markdown",
   "metadata": {},
   "source": [
    "### Perceptron"
   ]
  },
  {
   "cell_type": "code",
   "execution_count": 19,
   "metadata": {},
   "outputs": [],
   "source": [
    "model = Perceptron(constants)\n",
    "hyperparameters_choices = {\n",
    "\t\"alpha\": [0.1, 0.2, 0.01],\n",
    "\t\"max_iter\": [100, 200, 300],\n",
    "}"
   ]
  },
  {
   "cell_type": "markdown",
   "metadata": {},
   "source": [
    "### Réseau de neurones"
   ]
  },
  {
   "cell_type": "code",
   "execution_count": null,
   "metadata": {},
   "outputs": [],
   "source": [
    "model = NeuralNetwork(constants)\n",
    "# hyperparameters_choices = {\n",
    "# \t\"alpha\": [1e-5],\n",
    "# \t\"max_iter\": [300],\n",
    "# \t\"batch_size\": [32, \"auto\"],\n",
    "# \t\"hidden_layer_sizes\" : [(100,1), (75, 2), (50, 3)]\n",
    "# }\n",
    "hyperparameters_choices = {\n",
    "\t\"alpha\": [1e-4],\n",
    "\t\"max_iter\": [500],\n",
    "\t\"batch_size\": [\"auto\"],\n",
    "\t\"hidden_layer_sizes\" : [(100,)]\n",
    "}"
   ]
  },
  {
   "cell_type": "markdown",
   "metadata": {},
   "source": [
    "### Adaboost"
   ]
  },
  {
   "cell_type": "code",
   "execution_count": 58,
   "metadata": {},
   "outputs": [],
   "source": [
    "model = AdaBoost(constants)\n",
    "hyperparameters_choices = {\n",
    "\t\"n_estimators\": [262, 275, 287],\n",
    "\t\"learning_rate\": [0.12, 0.025, 0.037]\n",
    "}"
   ]
  },
  {
   "cell_type": "markdown",
   "metadata": {},
   "source": [
    "### SVM"
   ]
  },
  {
   "cell_type": "code",
   "execution_count": null,
   "metadata": {},
   "outputs": [],
   "source": [
    "model = Svm(constants)\n",
    "hyperparameters_choices = {\t\t# SVM doesn't have hyperparameters in the traditional sense, but we can optimize C (regularization parameter)\n",
    "\t\"C\": [1, 10, 100, 1000]\n",
    "}"
   ]
  },
  {
   "cell_type": "markdown",
   "metadata": {},
   "source": [
    "### Arbre de décision"
   ]
  },
  {
   "cell_type": "code",
   "execution_count": null,
   "metadata": {},
   "outputs": [],
   "source": [
    "model = DecisionTree(constants)\n",
    "hyperparameters_choices = {\n",
    "\t# TODO: add hyperparameters\n",
    "}"
   ]
  },
  {
   "cell_type": "markdown",
   "metadata": {},
   "source": [
    "### K-means"
   ]
  },
  {
   "cell_type": "code",
   "execution_count": null,
   "metadata": {},
   "outputs": [],
   "source": [
    "model = KMeans(constants)\n",
    "hyperparameters_choices = {\t\t# KMeans doesn't have hyperparameters like SVM, but we can optimize the number of clusters (k)\n",
    "\t'n_clusters': [2, 3, 4, 5],\n",
    "\t'n_init': [\"auto\", 10]\n",
    "}"
   ]
  },
  {
   "cell_type": "markdown",
   "metadata": {},
   "source": [
    "## Apprentissage du modèle"
   ]
  },
  {
   "cell_type": "code",
   "execution_count": 59,
   "metadata": {},
   "outputs": [
    {
     "name": "stdout",
     "output_type": "stream",
     "text": [
      "hyperparameters: {'learning_rate': 0.037, 'n_estimators': 287}\n"
     ]
    }
   ],
   "source": [
    "hyperparameters = model.find_optimal_hyperparameters(x_train, t_train, hyperparameters_choices)\n",
    "print(f\"hyperparameters: {hyperparameters}\")"
   ]
  },
  {
   "cell_type": "code",
   "execution_count": 22,
   "metadata": {},
   "outputs": [],
   "source": [
    "model.train(x_train, t_train, hyperparameters)"
   ]
  },
  {
   "cell_type": "markdown",
   "metadata": {},
   "source": [
    "## Tests et visualisation"
   ]
  },
  {
   "cell_type": "code",
   "execution_count": 23,
   "metadata": {},
   "outputs": [],
   "source": [
    "t_pred = model.predict(x_test)\n",
    "t_pred_proba = model.model.predict_proba(x_test)"
   ]
  },
  {
   "cell_type": "code",
   "execution_count": 24,
   "metadata": {},
   "outputs": [],
   "source": [
    "visualize = Visualize(constants, t_test, t_pred, t_pred_proba)"
   ]
  },
  {
   "cell_type": "code",
   "execution_count": 25,
   "metadata": {},
   "outputs": [
    {
     "name": "stdout",
     "output_type": "stream",
     "text": [
      "===========================================\n",
      "Log Loss       = 2.679\n",
      "Accuracy       = 0.626\n",
      "Mean precision = 0.651\n",
      "Mean recall    = 0.626\n",
      "Mean F1 score  = 0.596\n",
      "===========================================\n"
     ]
    }
   ],
   "source": [
    "# visualize.print_labels_scores()\n",
    "visualize.print_mean_scores()"
   ]
  },
  {
   "cell_type": "code",
   "execution_count": 26,
   "metadata": {},
   "outputs": [
    {
     "data": {
      "image/png": "[encoded data removed]",
      "text/plain": [
       "<Figure size 500x500 with 2 Axes>"
      ]
     },
     "metadata": {},
     "output_type": "display_data"
    }
   ],
   "source": [
    "visualize.plot_confusion_matrix(show_label=False)\n",
    "# visualize.plot_confusion_matrix(show_label=True)"
   ]
  },
  {
   "cell_type": "markdown",
   "metadata": {},
   "source": [
    "## Testing on the Test dataset"
   ]
  },
  {
   "cell_type": "code",
   "execution_count": 57,
   "metadata": {},
   "outputs": [
    {
     "data": {
      "text/html": [
       "<div>\n",
       "<style scoped>\n",
       "    .dataframe tbody tr th:only-of-type {\n",
       "        vertical-align: middle;\n",
       "    }\n",
       "\n",
       "    .dataframe tbody tr th {\n",
       "        vertical-align: top;\n",
       "    }\n",
       "\n",
       "    .dataframe thead th {\n",
       "        text-align: right;\n",
       "    }\n",
       "</style>\n",
       "<table border=\"1\" class=\"dataframe\">\n",
       "  <thead>\n",
       "    <tr style=\"text-align: right;\">\n",
       "      <th></th>\n",
       "      <th>id</th>\n",
       "      <th>Acer_Capillipes</th>\n",
       "      <th>Acer_Circinatum</th>\n",
       "      <th>Acer_Mono</th>\n",
       "      <th>Acer_Opalus</th>\n",
       "      <th>Acer_Palmatum</th>\n",
       "      <th>Acer_Pictum</th>\n",
       "      <th>Acer_Platanoids</th>\n",
       "      <th>Acer_Rubrum</th>\n",
       "      <th>Acer_Rufinerve</th>\n",
       "      <th>...</th>\n",
       "      <th>Salix_Fragilis</th>\n",
       "      <th>Salix_Intergra</th>\n",
       "      <th>Sorbus_Aria</th>\n",
       "      <th>Tilia_Oliveri</th>\n",
       "      <th>Tilia_Platyphyllos</th>\n",
       "      <th>Tilia_Tomentosa</th>\n",
       "      <th>Ulmus_Bergmanniana</th>\n",
       "      <th>Viburnum_Tinus</th>\n",
       "      <th>Viburnum_x_Rhytidophylloides</th>\n",
       "      <th>Zelkova_Serrata</th>\n",
       "    </tr>\n",
       "  </thead>\n",
       "  <tbody>\n",
       "    <tr>\n",
       "      <th>589</th>\n",
       "      <td>1576</td>\n",
       "      <td>0.004532</td>\n",
       "      <td>0.069170</td>\n",
       "      <td>0.001425</td>\n",
       "      <td>0.005783</td>\n",
       "      <td>0.030054</td>\n",
       "      <td>0.013123</td>\n",
       "      <td>0.000387</td>\n",
       "      <td>0.001945</td>\n",
       "      <td>0.013729</td>\n",
       "      <td>...</td>\n",
       "      <td>0.002943</td>\n",
       "      <td>0.000559</td>\n",
       "      <td>0.005508</td>\n",
       "      <td>0.005518</td>\n",
       "      <td>0.007936</td>\n",
       "      <td>0.008388</td>\n",
       "      <td>0.013657</td>\n",
       "      <td>0.002029</td>\n",
       "      <td>0.006483</td>\n",
       "      <td>0.018614</td>\n",
       "    </tr>\n",
       "    <tr>\n",
       "      <th>590</th>\n",
       "      <td>1577</td>\n",
       "      <td>0.006383</td>\n",
       "      <td>0.016536</td>\n",
       "      <td>0.001407</td>\n",
       "      <td>0.018205</td>\n",
       "      <td>0.009782</td>\n",
       "      <td>0.007294</td>\n",
       "      <td>0.000942</td>\n",
       "      <td>0.009904</td>\n",
       "      <td>0.016963</td>\n",
       "      <td>...</td>\n",
       "      <td>0.003841</td>\n",
       "      <td>0.001075</td>\n",
       "      <td>0.020867</td>\n",
       "      <td>0.010198</td>\n",
       "      <td>0.017348</td>\n",
       "      <td>0.018449</td>\n",
       "      <td>0.012968</td>\n",
       "      <td>0.003956</td>\n",
       "      <td>0.002638</td>\n",
       "      <td>0.025846</td>\n",
       "    </tr>\n",
       "    <tr>\n",
       "      <th>591</th>\n",
       "      <td>1579</td>\n",
       "      <td>0.000510</td>\n",
       "      <td>0.003505</td>\n",
       "      <td>0.001305</td>\n",
       "      <td>0.005961</td>\n",
       "      <td>0.003006</td>\n",
       "      <td>0.036707</td>\n",
       "      <td>0.000718</td>\n",
       "      <td>0.000561</td>\n",
       "      <td>0.001609</td>\n",
       "      <td>...</td>\n",
       "      <td>0.000277</td>\n",
       "      <td>0.000517</td>\n",
       "      <td>0.001675</td>\n",
       "      <td>0.002872</td>\n",
       "      <td>0.001329</td>\n",
       "      <td>0.001419</td>\n",
       "      <td>0.000933</td>\n",
       "      <td>0.002988</td>\n",
       "      <td>0.014124</td>\n",
       "      <td>0.005918</td>\n",
       "    </tr>\n",
       "    <tr>\n",
       "      <th>592</th>\n",
       "      <td>1580</td>\n",
       "      <td>0.000983</td>\n",
       "      <td>0.001811</td>\n",
       "      <td>0.010078</td>\n",
       "      <td>0.032388</td>\n",
       "      <td>0.000323</td>\n",
       "      <td>0.001742</td>\n",
       "      <td>0.004583</td>\n",
       "      <td>0.008022</td>\n",
       "      <td>0.003141</td>\n",
       "      <td>...</td>\n",
       "      <td>0.001980</td>\n",
       "      <td>0.008471</td>\n",
       "      <td>0.002255</td>\n",
       "      <td>0.045437</td>\n",
       "      <td>0.003213</td>\n",
       "      <td>0.005328</td>\n",
       "      <td>0.003458</td>\n",
       "      <td>0.025775</td>\n",
       "      <td>0.000803</td>\n",
       "      <td>0.015776</td>\n",
       "    </tr>\n",
       "    <tr>\n",
       "      <th>593</th>\n",
       "      <td>1583</td>\n",
       "      <td>0.000830</td>\n",
       "      <td>0.001232</td>\n",
       "      <td>0.007517</td>\n",
       "      <td>0.013768</td>\n",
       "      <td>0.000341</td>\n",
       "      <td>0.003238</td>\n",
       "      <td>0.002853</td>\n",
       "      <td>0.000767</td>\n",
       "      <td>0.002361</td>\n",
       "      <td>...</td>\n",
       "      <td>0.000688</td>\n",
       "      <td>0.003983</td>\n",
       "      <td>0.001550</td>\n",
       "      <td>0.009188</td>\n",
       "      <td>0.002437</td>\n",
       "      <td>0.002562</td>\n",
       "      <td>0.001901</td>\n",
       "      <td>0.042641</td>\n",
       "      <td>0.001789</td>\n",
       "      <td>0.007656</td>\n",
       "    </tr>\n",
       "  </tbody>\n",
       "</table>\n",
       "<p>5 rows × 100 columns</p>\n",
       "</div>"
      ],
      "text/plain": [
       "       id  Acer_Capillipes  Acer_Circinatum  Acer_Mono  Acer_Opalus  \\\n",
       "589  1576         0.004532         0.069170   0.001425     0.005783   \n",
       "590  1577         0.006383         0.016536   0.001407     0.018205   \n",
       "591  1579         0.000510         0.003505   0.001305     0.005961   \n",
       "592  1580         0.000983         0.001811   0.010078     0.032388   \n",
       "593  1583         0.000830         0.001232   0.007517     0.013768   \n",
       "\n",
       "     Acer_Palmatum  Acer_Pictum  Acer_Platanoids  Acer_Rubrum  Acer_Rufinerve  \\\n",
       "589       0.030054     0.013123         0.000387     0.001945        0.013729   \n",
       "590       0.009782     0.007294         0.000942     0.009904        0.016963   \n",
       "591       0.003006     0.036707         0.000718     0.000561        0.001609   \n",
       "592       0.000323     0.001742         0.004583     0.008022        0.003141   \n",
       "593       0.000341     0.003238         0.002853     0.000767        0.002361   \n",
       "\n",
       "     ...  Salix_Fragilis  Salix_Intergra  Sorbus_Aria  Tilia_Oliveri  \\\n",
       "589  ...        0.002943        0.000559     0.005508       0.005518   \n",
       "590  ...        0.003841        0.001075     0.020867       0.010198   \n",
       "591  ...        0.000277        0.000517     0.001675       0.002872   \n",
       "592  ...        0.001980        0.008471     0.002255       0.045437   \n",
       "593  ...        0.000688        0.003983     0.001550       0.009188   \n",
       "\n",
       "     Tilia_Platyphyllos  Tilia_Tomentosa  Ulmus_Bergmanniana  Viburnum_Tinus  \\\n",
       "589            0.007936         0.008388            0.013657        0.002029   \n",
       "590            0.017348         0.018449            0.012968        0.003956   \n",
       "591            0.001329         0.001419            0.000933        0.002988   \n",
       "592            0.003213         0.005328            0.003458        0.025775   \n",
       "593            0.002437         0.002562            0.001901        0.042641   \n",
       "\n",
       "     Viburnum_x_Rhytidophylloides  Zelkova_Serrata  \n",
       "589                      0.006483         0.018614  \n",
       "590                      0.002638         0.025846  \n",
       "591                      0.014124         0.005918  \n",
       "592                      0.000803         0.015776  \n",
       "593                      0.001789         0.007656  \n",
       "\n",
       "[5 rows x 100 columns]"
      ]
     },
     "execution_count": 57,
     "metadata": {},
     "output_type": "execute_result"
    }
   ],
   "source": [
    "# Predict Test Set\n",
    "clf = model.model\n",
    "test = pd.read_csv('../data/raw/test.csv')\n",
    "\n",
    "# Remove the \"id\" column from the test data\n",
    "test_no_id = test.drop(['id'], axis=1)\n",
    "\n",
    "test_predictions = clf.predict_proba(test_no_id)\n",
    "classes = list(constants.get_labels())\n",
    "\n",
    "# Format DataFrame\n",
    "submission = pd.DataFrame(test_predictions, columns=classes)\n",
    "submission.insert(0, 'id', test.id)\n",
    "submission.reset_index()\n",
    "\n",
    "# Export Submission\n",
    "submission.to_csv(f'../data/processed/submission_{clf}.csv', index=False)\n",
    "submission.tail()"
   ]
  }
 ],
 "metadata": {
  "kernelspec": {
   "display_name": ".venv",
   "language": "python",
   "name": "python3"
  },
  "language_info": {
   "codemirror_mode": {
    "name": "ipython",
    "version": 3
   },
   "file_extension": ".py",
   "mimetype": "text/x-python",
   "name": "python",
   "nbconvert_exporter": "python",
   "pygments_lexer": "ipython3",
   "version": "3.10.12"
  }
 },
 "nbformat": 4,
 "nbformat_minor": 2
}
