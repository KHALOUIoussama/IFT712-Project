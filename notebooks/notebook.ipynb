{
 "cells": [
  {
   "cell_type": "code",
   "execution_count": 1,
   "metadata": {},
   "outputs": [],
   "source": [
    "import sys\n",
    "import numpy as np\n",
    "sys.path.insert(0, '../src/data')\n",
    "sys.path.insert(0, '../src/features')\n",
    "sys.path.insert(0, '../src/models')\n",
    "sys.path.insert(0, '../src/visualization')\n",
    "\n",
    "from data_manager import DataManager\n",
    "from constants import Constants\n",
    "\n",
    "from ada_boost import AdaBoost\n",
    "from decision_tree import DecisionTree\n",
    "from k_means import KMeans\n",
    "from svm import Svm\n",
    "from neural_network import NeuralNetwork\n",
    "from perceptron import Perceptron\n",
    "\n",
    "from visualize import Visualize"
   ]
  },
  {
   "cell_type": "markdown",
   "metadata": {},
   "source": [
    "## Chargement des données"
   ]
  },
  {
   "cell_type": "code",
   "execution_count": 2,
   "metadata": {},
   "outputs": [
    {
     "name": "stdout",
     "output_type": "stream",
     "text": [
      "x_train.shape: (792, 192)\n",
      "x_test.shape: (198, 192)\n",
      "t_train.shape: (792,)\n",
      "t_test.shape: (198,)\n"
     ]
    }
   ],
   "source": [
    "dataManager = DataManager()\n",
    "\n",
    "constants, x_train, x_test, t_train, t_test = dataManager.load_data()\n",
    "# constants.print()\n",
    "t_train_onehot = dataManager.one_hot_encoding(t_train)\n",
    "t_test_onehot = dataManager.one_hot_encoding(t_test)\n",
    "\n",
    "print(f\"x_train.shape: {x_train.shape}\")\n",
    "print(f\"x_test.shape: {x_test.shape}\")\n",
    "print(f\"t_train.shape: {t_train.shape}\")\n",
    "print(f\"t_test.shape: {t_test.shape}\")\n"
   ]
  },
  {
   "cell_type": "markdown",
   "metadata": {},
   "source": [
    "## Préparation du modèle"
   ]
  },
  {
   "cell_type": "code",
   "execution_count": 3,
   "metadata": {},
   "outputs": [],
   "source": [
    "constants.set_training_parameters(epochs=100, learning_rate=0.01, batch_size=100)"
   ]
  },
  {
   "cell_type": "code",
   "execution_count": 4,
   "metadata": {},
   "outputs": [],
   "source": [
    "# model = AdaBoost(constants)\n",
    "model = DecisionTree(constants)\n",
    "# model = KMeans(constants)\n",
    "# model = Svm(constants)\n",
    "# model = NeuralNetwork(constants)\n",
    "# model = Perceptron(constants)"
   ]
  },
  {
   "cell_type": "code",
   "execution_count": 5,
   "metadata": {},
   "outputs": [],
   "source": [
    "hyperparameters = {\n",
    "    'max_depth': [10, 20, 30, None],\n",
    "    'min_samples_split': [2, 5, 10],\n",
    "    'min_samples_leaf': [1, 2, 4]\n",
    "}"
   ]
  },
  {
   "cell_type": "code",
   "execution_count": 6,
   "metadata": {},
   "outputs": [
    {
     "name": "stderr",
     "output_type": "stream",
     "text": [
      "/home/okhaloui/Documents/UDS/Techniques d'apprentissage/IFT712-Project/.venv/lib/python3.10/site-packages/sklearn/model_selection/_split.py:737: UserWarning: The least populated class in y has only 4 members, which is less than n_splits=5.\n",
      "  warnings.warn(\n"
     ]
    }
   ],
   "source": [
    "hyperparameters = model.find_optimal_hyperparameters(x_train, t_train, hyperparameters)"
   ]
  },
  {
   "cell_type": "markdown",
   "metadata": {},
   "source": [
    "## Apprentissage du modèle"
   ]
  },
  {
   "cell_type": "code",
   "execution_count": 7,
   "metadata": {},
   "outputs": [],
   "source": [
    "model.train(x_train, t_train, hyperparameters)"
   ]
  },
  {
   "cell_type": "markdown",
   "metadata": {},
   "source": [
    "## Tests et visualisation"
   ]
  },
  {
   "cell_type": "code",
   "execution_count": 8,
   "metadata": {},
   "outputs": [],
   "source": [
    "t_pred = model.predict(x_test)"
   ]
  },
  {
   "cell_type": "code",
   "execution_count": 9,
   "metadata": {},
   "outputs": [],
   "source": [
    "visualize = Visualize(constants, t_pred, t_test)"
   ]
  },
  {
   "cell_type": "code",
   "execution_count": 10,
   "metadata": {},
   "outputs": [
    {
     "name": "stdout",
     "output_type": "stream",
     "text": [
      "===========================================\n",
      "|         Label        | Precision | Recall | F1 Score |\n",
      "|----------------------|-----------|--------|----------|\n",
      "| Acer_Capillipes      | 1.000     | 1.000  | 1.000    |\n",
      "| Acer_Circinatum      | 1.000     | 1.000  | 1.000    |\n",
      "| Acer_Mono            | 1.000     | 1.000  | 1.000    |\n",
      "| Acer_Opalus          | 0.000     | 0.000  | 0.000    |\n",
      "| Acer_Palmatum        | 1.000     | 1.000  | 1.000    |\n",
      "| Acer_Pictum          | 1.000     | 1.000  | 1.000    |\n",
      "| Acer_Platanoids      | 1.000     | 0.400  | 0.571    |\n",
      "| Acer_Rubrum          | 0.000     | 0.000  | 0.000    |\n",
      "| Acer_Rufinerve       | 0.000     | 0.000  | 0.000    |\n",
      "| Acer_Saccharinum     | 1.000     | 0.333  | 0.500    |\n",
      "| Alnus_Cordata        | 0.500     | 0.500  | 0.500    |\n",
      "| Alnus_Maximowiczii   | 1.000     | 0.667  | 0.800    |\n",
      "| Alnus_Rubra          | 0.500     | 0.333  | 0.400    |\n",
      "| Alnus_Sieboldiana    | 0.500     | 1.000  | 0.667    |\n",
      "| Alnus_Viridis        | 0.500     | 0.500  | 0.500    |\n",
      "| Arundinaria_Simonii  | 1.000     | 1.000  | 1.000    |\n",
      "| Betula_Austrosine... | 0.500     | 1.000  | 0.667    |\n",
      "| Betula_Pendula       | 0.000     | 0.000  | 0.000    |\n",
      "| Callicarpa_Bodini... | 1.000     | 0.500  | 0.667    |\n",
      "| Castanea_Sativa      | 0.000     | 0.000  | 0.000    |\n",
      "| Celtis_Koraiensis    | 0.667     | 1.000  | 0.800    |\n",
      "| Cercis_Siliquastrum  | 0.667     | 1.000  | 0.800    |\n",
      "| Cornus_Chinensis     | 0.667     | 0.667  | 0.667    |\n",
      "| Cornus_Controversa   | 1.000     | 0.667  | 0.800    |\n",
      "| Cornus_Macrophylla   | 0.667     | 1.000  | 0.800    |\n",
      "| Cotinus_Coggygria    | 0.500     | 0.500  | 0.500    |\n",
      "| Crataegus_Monogyna   | 0.500     | 0.333  | 0.400    |\n",
      "| Cytisus_Battandieri  | 1.000     | 1.000  | 1.000    |\n",
      "| Eucalyptus_Glauce... | 0.000     | 0.000  | 0.000    |\n",
      "| Eucalyptus_Neglecta  | 0.500     | 0.500  | 0.500    |\n",
      "| Eucalyptus_Urnigera  | 0.500     | 1.000  | 0.667    |\n",
      "| Fagus_Sylvatica      | 1.000     | 1.000  | 1.000    |\n",
      "| Ginkgo_Biloba        | 0.750     | 0.600  | 0.667    |\n",
      "| Ilex_Aquifolium      | 0.500     | 1.000  | 0.667    |\n",
      "| Ilex_Cornuta         | 0.000     | 0.000  | 0.000    |\n",
      "| Liquidambar_Styra... | 1.000     | 1.000  | 1.000    |\n",
      "| Liriodendron_Tuli... | 0.667     | 0.800  | 0.727    |\n",
      "| Lithocarpus_Cleis... | 1.000     | 0.333  | 0.500    |\n",
      "| Lithocarpus_Edulis   | 0.000     | 0.000  | 0.000    |\n",
      "| Magnolia_Heptapeta   | 1.000     | 0.333  | 0.500    |\n",
      "| Magnolia_Salicifo... | 0.500     | 1.000  | 0.667    |\n",
      "| Morus_Nigra          | 0.500     | 1.000  | 0.667    |\n",
      "| Olea_Europaea        | 0.750     | 1.000  | 0.857    |\n",
      "| Phildelphus          | 1.000     | 1.000  | 1.000    |\n",
      "| Populus_Adenopoda    | 1.000     | 0.667  | 0.800    |\n",
      "| Populus_Grandiden... | 0.000     | 0.000  | 0.000    |\n",
      "| Populus_Nigra        | 0.000     | 0.000  | 0.000    |\n",
      "| Prunus_Avium         | 0.333     | 1.000  | 0.500    |\n",
      "| Prunus_X_Shmittii    | 1.000     | 1.000  | 1.000    |\n",
      "| Pterocarya_Stenop... | 0.667     | 0.400  | 0.500    |\n",
      "| Quercus_Afares       | 0.500     | 0.500  | 0.500    |\n",
      "| Quercus_Agrifolia    | 0.000     | 0.000  | 0.000    |\n",
      "| Quercus_Alnifolia    | 0.500     | 1.000  | 0.667    |\n",
      "| Quercus_Brantii      | 1.000     | 0.667  | 0.800    |\n",
      "| Quercus_Canariensis  | 1.000     | 1.000  | 1.000    |\n",
      "| Quercus_Castaneif... | 0.000     | 0.000  | 0.000    |\n",
      "| Quercus_Cerris       | 0.667     | 1.000  | 0.800    |\n",
      "| Quercus_Chrysolepis  | 0.000     | 0.000  | 0.000    |\n",
      "| Quercus_Coccifera    | 0.667     | 1.000  | 0.800    |\n",
      "| Quercus_Coccinea     | 0.500     | 1.000  | 0.667    |\n",
      "| Quercus_Crassifolia  | 0.500     | 1.000  | 0.667    |\n",
      "| Quercus_Crassipes    | 1.000     | 0.500  | 0.667    |\n",
      "| Quercus_Dolichole... | 1.000     | 0.250  | 0.400    |\n",
      "| Quercus_Ellipsoid... | 1.000     | 1.000  | 1.000    |\n",
      "| Quercus_Greggii      | 0.000     | 0.000  | 0.000    |\n",
      "| Quercus_Hartwissi... | 0.667     | 0.400  | 0.500    |\n",
      "| Quercus_Ilex         | 0.000     | 0.000  | 0.000    |\n",
      "| Quercus_Imbricaria   | 1.000     | 0.500  | 0.667    |\n",
      "| Quercus_Infectori... | 1.000     | 0.750  | 0.857    |\n",
      "| Quercus_Kewensis     | 0.500     | 1.000  | 0.667    |\n",
      "| Quercus_Nigra        | 0.667     | 1.000  | 0.800    |\n",
      "| Quercus_Palustris    | 0.000     | 0.000  | 0.000    |\n",
      "| Quercus_Phellos      | 0.333     | 1.000  | 0.500    |\n",
      "| Quercus_Phillyrae... | 1.000     | 1.000  | 1.000    |\n",
      "| Quercus_Pontica      | 1.000     | 1.000  | 1.000    |\n",
      "| Quercus_Pubescens    | 0.500     | 1.000  | 0.667    |\n",
      "| Quercus_Pyrenaica    | 0.667     | 1.000  | 0.800    |\n",
      "| Quercus_Rhysophylla  | 0.000     | 0.000  | 0.000    |\n",
      "| Quercus_Rubra        | 1.000     | 0.750  | 0.857    |\n",
      "| Quercus_Semecarpi... | 0.000     | 0.000  | 0.000    |\n",
      "| Quercus_Shumardii    | 0.000     | 0.000  | 0.000    |\n",
      "| Quercus_Suber        | 0.000     | 0.000  | 0.000    |\n",
      "| Quercus_Texana       | 0.333     | 0.250  | 0.286    |\n",
      "| Quercus_Trojana      | 0.500     | 1.000  | 0.667    |\n",
      "| Quercus_Variabilis   | 1.000     | 1.000  | 1.000    |\n",
      "| Quercus_Vulcanica    | 1.000     | 0.500  | 0.667    |\n",
      "| Quercus_x_Hispanica  | 0.000     | 0.000  | 0.000    |\n",
      "| Quercus_x_Turneri    | 1.000     | 1.000  | 1.000    |\n",
      "| Rhododendron_x_Ru... | 1.000     | 1.000  | 1.000    |\n",
      "| Salix_Fragilis       | 0.333     | 1.000  | 0.500    |\n",
      "| Salix_Intergra       | 1.000     | 0.250  | 0.400    |\n",
      "| Sorbus_Aria          | 1.000     | 0.500  | 0.667    |\n",
      "| Tilia_Oliveri        | 0.500     | 0.250  | 0.333    |\n"
     ]
    },
    {
     "ename": "IndexError",
     "evalue": "index 93 is out of bounds for axis 0 with size 93",
     "output_type": "error",
     "traceback": [
      "\u001b[0;31m---------------------------------------------------------------------------\u001b[0m",
      "\u001b[0;31mIndexError\u001b[0m                                Traceback (most recent call last)",
      "\u001b[1;32m/home/okhaloui/Documents/UDS/Techniques d'apprentissage/IFT712-Project/notebooks/notebook.ipynb Cell 14\u001b[0m line \u001b[0;36m1\n\u001b[0;32m----> <a href='vscode-notebook-cell:/home/okhaloui/Documents/UDS/Techniques%20d%27apprentissage/IFT712-Project/notebooks/notebook.ipynb#X15sZmlsZQ%3D%3D?line=0'>1</a>\u001b[0m visualize\u001b[39m.\u001b[39;49mprint_labels_scores()\n\u001b[1;32m      <a href='vscode-notebook-cell:/home/okhaloui/Documents/UDS/Techniques%20d%27apprentissage/IFT712-Project/notebooks/notebook.ipynb#X15sZmlsZQ%3D%3D?line=1'>2</a>\u001b[0m \u001b[39m# visualize.print_mean_scores()\u001b[39;00m\n",
      "File \u001b[0;32m~/Documents/UDS/Techniques d'apprentissage/IFT712-Project/notebooks/../src/visualization/visualize.py:65\u001b[0m, in \u001b[0;36mVisualize.print_labels_scores\u001b[0;34m(self)\u001b[0m\n\u001b[1;32m     63\u001b[0m \t\u001b[39melse\u001b[39;00m:\n\u001b[1;32m     64\u001b[0m \t\tlabel_name \u001b[39m=\u001b[39m label_name[:\u001b[39m17\u001b[39m] \u001b[39m+\u001b[39m \u001b[39m\"\u001b[39m\u001b[39m...\u001b[39m\u001b[39m\"\u001b[39m\n\u001b[0;32m---> 65\u001b[0m \t\u001b[39mprint\u001b[39m(\u001b[39mf\u001b[39m\u001b[39m\"\u001b[39m\u001b[39m| \u001b[39m\u001b[39m{\u001b[39;00mlabel_name\u001b[39m}\u001b[39;00m\u001b[39m | \u001b[39m\u001b[39m{\u001b[39;00m\u001b[39mself\u001b[39;49m\u001b[39m.\u001b[39;49mprecision[i]\u001b[39m:\u001b[39;00m\u001b[39m<9.3f\u001b[39m\u001b[39m}\u001b[39;00m\u001b[39m | \u001b[39m\u001b[39m{\u001b[39;00m\u001b[39mself\u001b[39m\u001b[39m.\u001b[39mrecall[i]\u001b[39m:\u001b[39;00m\u001b[39m<6.3f\u001b[39m\u001b[39m}\u001b[39;00m\u001b[39m | \u001b[39m\u001b[39m{\u001b[39;00m\u001b[39mself\u001b[39m\u001b[39m.\u001b[39mf1_score[i]\u001b[39m:\u001b[39;00m\u001b[39m<8.3f\u001b[39m\u001b[39m}\u001b[39;00m\u001b[39m |\u001b[39m\u001b[39m\"\u001b[39m)\n\u001b[1;32m     66\u001b[0m \u001b[39mprint\u001b[39m(\u001b[39m\"\u001b[39m\u001b[39m===========================================\u001b[39m\u001b[39m\"\u001b[39m)\n\u001b[1;32m     67\u001b[0m \u001b[39mprint\u001b[39m(\u001b[39m\"\u001b[39m\u001b[39m| Mean                 | Precision | Recall | F1 Score |\u001b[39m\u001b[39m\"\u001b[39m)\n",
      "\u001b[0;31mIndexError\u001b[0m: index 93 is out of bounds for axis 0 with size 93"
     ]
    }
   ],
   "source": [
    "visualize.print_labels_scores()\n",
    "# visualize.print_mean_scores()"
   ]
  },
  {
   "cell_type": "code",
   "execution_count": null,
   "metadata": {},
   "outputs": [
    {
     "ename": "TypeError",
     "evalue": "unsupported operand type(s) for -: 'str' and 'int'",
     "output_type": "error",
     "traceback": [
      "\u001b[0;31m---------------------------------------------------------------------------\u001b[0m",
      "\u001b[0;31mTypeError\u001b[0m                                 Traceback (most recent call last)",
      "\u001b[1;32m/home/okhaloui/Documents/UDS/Techniques d'apprentissage/IFT712-Project/notebooks/notebook.ipynb Cell 15\u001b[0m line \u001b[0;36m1\n\u001b[0;32m----> <a href='vscode-notebook-cell:/home/okhaloui/Documents/UDS/Techniques%20d%27apprentissage/IFT712-Project/notebooks/notebook.ipynb#X16sZmlsZQ%3D%3D?line=0'>1</a>\u001b[0m visualize\u001b[39m.\u001b[39;49mplot_confusion_matrix()\n",
      "File \u001b[0;32m~/Documents/UDS/Techniques d'apprentissage/IFT712-Project/notebooks/../src/visualization/visualize.py:85\u001b[0m, in \u001b[0;36mVisualize.plot_confusion_matrix\u001b[0;34m(self)\u001b[0m\n\u001b[1;32m     83\u001b[0m plt\u001b[39m.\u001b[39mtitle(\u001b[39m\"\u001b[39m\u001b[39mConfusion matrix\u001b[39m\u001b[39m\"\u001b[39m)\n\u001b[1;32m     84\u001b[0m plt\u001b[39m.\u001b[39mcolorbar()\n\u001b[0;32m---> 85\u001b[0m tick_marks \u001b[39m=\u001b[39m np\u001b[39m.\u001b[39;49marange(labels)\n\u001b[1;32m     86\u001b[0m plt\u001b[39m.\u001b[39mxticks(tick_marks, labels, rotation\u001b[39m=\u001b[39m\u001b[39m90\u001b[39m)\n\u001b[1;32m     87\u001b[0m plt\u001b[39m.\u001b[39myticks(tick_marks, labels)\n",
      "\u001b[0;31mTypeError\u001b[0m: unsupported operand type(s) for -: 'str' and 'int'"
     ]
    },
    {
     "data": {
      "image/png": "[encoded data removed]",
      "text/plain": [
       "<Figure size 1000x1000 with 2 Axes>"
      ]
     },
     "metadata": {},
     "output_type": "display_data"
    }
   ],
   "source": [
    "visualize.plot_confusion_matrix()"
   ]
  }
 ],
 "metadata": {
  "kernelspec": {
   "display_name": ".venv",
   "language": "python",
   "name": "python3"
  },
  "language_info": {
   "codemirror_mode": {
    "name": "ipython",
    "version": 3
   },
   "file_extension": ".py",
   "mimetype": "text/x-python",
   "name": "python",
   "nbconvert_exporter": "python",
   "pygments_lexer": "ipython3",
   "version": "3.10.12"
  }
 },
 "nbformat": 4,
 "nbformat_minor": 2
}
