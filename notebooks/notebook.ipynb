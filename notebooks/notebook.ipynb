{
 "cells": [
  {
   "cell_type": "code",
   "execution_count": 1,
   "metadata": {},
   "outputs": [],
   "source": [
    "import sys\n",
    "import numpy as np\n",
    "sys.path.insert(0, '../src/data')\n",
    "sys.path.insert(0, '../src/features')\n",
    "sys.path.insert(0, '../src/models')\n",
    "sys.path.insert(0, '../src/visualization')\n",
    "\n",
    "from data_manager import DataManager\n",
    "from pretreatment import load_raw_data, save_raw_data, create_superclasses\n",
    "from constants import Constants\n",
    "\n",
    "from ada_boost import AdaBoost\n",
    "from decision_tree import DecisionTree\n",
    "from k_means import KMeans\n",
    "from svm import Svm\n",
    "from neural_network import NeuralNetwork\n",
    "from perceptron import Perceptron\n",
    "\n",
    "from visualize import Visualize"
   ]
  },
  {
   "cell_type": "markdown",
   "metadata": {},
   "source": [
    "## Prétraitement des données"
   ]
  },
  {
   "cell_type": "code",
   "execution_count": 2,
   "metadata": {},
   "outputs": [],
   "source": [
    "raw_path = '../data/raw/train.csv'\n",
    "superclasses_path = '../data/processed/superclasses.csv'"
   ]
  },
  {
   "cell_type": "markdown",
   "metadata": {},
   "source": [
    "### Superclasses"
   ]
  },
  {
   "cell_type": "code",
   "execution_count": 5,
   "metadata": {},
   "outputs": [],
   "source": [
    "# superclasses = create_superclasses(raw_path, superclasses_path)"
   ]
  },
  {
   "cell_type": "markdown",
   "metadata": {},
   "source": [
    "## Chargement des données"
   ]
  },
  {
   "cell_type": "code",
   "execution_count": null,
   "metadata": {},
   "outputs": [],
   "source": [
    "path = raw_path\n",
    "# path = superclasses_path"
   ]
  },
  {
   "cell_type": "code",
   "execution_count": 4,
   "metadata": {},
   "outputs": [
    {
     "ename": "KeyError",
     "evalue": "'species'",
     "output_type": "error",
     "traceback": [
      "\u001b[0;31m---------------------------------------------------------------------------\u001b[0m",
      "\u001b[0;31mKeyError\u001b[0m                                  Traceback (most recent call last)",
      "File \u001b[0;32m~/Documents/0_Sherbrooke/CoursSherbrooke/IFT712-Technique d'apprentissage/TPOussama/Projet/.venv/lib/python3.10/site-packages/pandas/core/indexes/base.py:3790\u001b[0m, in \u001b[0;36mIndex.get_loc\u001b[0;34m(self, key)\u001b[0m\n\u001b[1;32m   3789\u001b[0m \u001b[39mtry\u001b[39;00m:\n\u001b[0;32m-> 3790\u001b[0m     \u001b[39mreturn\u001b[39;00m \u001b[39mself\u001b[39;49m\u001b[39m.\u001b[39;49m_engine\u001b[39m.\u001b[39;49mget_loc(casted_key)\n\u001b[1;32m   3791\u001b[0m \u001b[39mexcept\u001b[39;00m \u001b[39mKeyError\u001b[39;00m \u001b[39mas\u001b[39;00m err:\n",
      "File \u001b[0;32mindex.pyx:152\u001b[0m, in \u001b[0;36mpandas._libs.index.IndexEngine.get_loc\u001b[0;34m()\u001b[0m\n",
      "File \u001b[0;32mindex.pyx:181\u001b[0m, in \u001b[0;36mpandas._libs.index.IndexEngine.get_loc\u001b[0;34m()\u001b[0m\n",
      "File \u001b[0;32mpandas/_libs/hashtable_class_helper.pxi:7080\u001b[0m, in \u001b[0;36mpandas._libs.hashtable.PyObjectHashTable.get_item\u001b[0;34m()\u001b[0m\n",
      "File \u001b[0;32mpandas/_libs/hashtable_class_helper.pxi:7088\u001b[0m, in \u001b[0;36mpandas._libs.hashtable.PyObjectHashTable.get_item\u001b[0;34m()\u001b[0m\n",
      "\u001b[0;31mKeyError\u001b[0m: 'species'",
      "\nThe above exception was the direct cause of the following exception:\n",
      "\u001b[0;31mKeyError\u001b[0m                                  Traceback (most recent call last)",
      "\u001b[1;32m/home/timwhity/Documents/0_Sherbrooke/CoursSherbrooke/IFT712-Technique d'apprentissage/TPOussama/Projet/notebooks/notebook.ipynb Cellule 3\u001b[0m line \u001b[0;36m3\n\u001b[1;32m      <a href='vscode-notebook-cell:/home/timwhity/Documents/0_Sherbrooke/CoursSherbrooke/IFT712-Technique%20d%27apprentissage/TPOussama/Projet/notebooks/notebook.ipynb#W2sZmlsZQ%3D%3D?line=0'>1</a>\u001b[0m dataManager \u001b[39m=\u001b[39m DataManager()\n\u001b[0;32m----> <a href='vscode-notebook-cell:/home/timwhity/Documents/0_Sherbrooke/CoursSherbrooke/IFT712-Technique%20d%27apprentissage/TPOussama/Projet/notebooks/notebook.ipynb#W2sZmlsZQ%3D%3D?line=2'>3</a>\u001b[0m constants, x_train, x_test, t_train, t_test \u001b[39m=\u001b[39m dataManager\u001b[39m.\u001b[39;49mload_data()\n\u001b[1;32m      <a href='vscode-notebook-cell:/home/timwhity/Documents/0_Sherbrooke/CoursSherbrooke/IFT712-Technique%20d%27apprentissage/TPOussama/Projet/notebooks/notebook.ipynb#W2sZmlsZQ%3D%3D?line=3'>4</a>\u001b[0m \u001b[39m# constants.print()\u001b[39;00m\n\u001b[1;32m      <a href='vscode-notebook-cell:/home/timwhity/Documents/0_Sherbrooke/CoursSherbrooke/IFT712-Technique%20d%27apprentissage/TPOussama/Projet/notebooks/notebook.ipynb#W2sZmlsZQ%3D%3D?line=4'>5</a>\u001b[0m t_train_onehot \u001b[39m=\u001b[39m dataManager\u001b[39m.\u001b[39mone_hot_encoding(t_train)\n",
      "File \u001b[0;32m~/Documents/0_Sherbrooke/CoursSherbrooke/IFT712-Technique d'apprentissage/TPOussama/Projet/notebooks/../src/data/data_manager.py:39\u001b[0m, in \u001b[0;36mDataManager.load_data\u001b[0;34m(self, super_classes)\u001b[0m\n\u001b[1;32m     37\u001b[0m \u001b[39m# Encode the species column using LabelEncoder\u001b[39;00m\n\u001b[1;32m     38\u001b[0m label_encoder \u001b[39m=\u001b[39m LabelEncoder()\n\u001b[0;32m---> 39\u001b[0m train_data[\u001b[39m'\u001b[39m\u001b[39mspecies\u001b[39m\u001b[39m'\u001b[39m] \u001b[39m=\u001b[39m label_encoder\u001b[39m.\u001b[39mfit_transform(train_data[\u001b[39m'\u001b[39;49m\u001b[39mspecies\u001b[39;49m\u001b[39m'\u001b[39;49m])\n\u001b[1;32m     41\u001b[0m \u001b[39m# Extract features and labels\u001b[39;00m\n\u001b[1;32m     42\u001b[0m X \u001b[39m=\u001b[39m train_data\u001b[39m.\u001b[39mdrop([\u001b[39m'\u001b[39m\u001b[39mid\u001b[39m\u001b[39m'\u001b[39m, \u001b[39m'\u001b[39m\u001b[39mspecies\u001b[39m\u001b[39m'\u001b[39m], axis\u001b[39m=\u001b[39m\u001b[39m1\u001b[39m)\n",
      "File \u001b[0;32m~/Documents/0_Sherbrooke/CoursSherbrooke/IFT712-Technique d'apprentissage/TPOussama/Projet/.venv/lib/python3.10/site-packages/pandas/core/frame.py:3893\u001b[0m, in \u001b[0;36mDataFrame.__getitem__\u001b[0;34m(self, key)\u001b[0m\n\u001b[1;32m   3891\u001b[0m \u001b[39mif\u001b[39;00m \u001b[39mself\u001b[39m\u001b[39m.\u001b[39mcolumns\u001b[39m.\u001b[39mnlevels \u001b[39m>\u001b[39m \u001b[39m1\u001b[39m:\n\u001b[1;32m   3892\u001b[0m     \u001b[39mreturn\u001b[39;00m \u001b[39mself\u001b[39m\u001b[39m.\u001b[39m_getitem_multilevel(key)\n\u001b[0;32m-> 3893\u001b[0m indexer \u001b[39m=\u001b[39m \u001b[39mself\u001b[39;49m\u001b[39m.\u001b[39;49mcolumns\u001b[39m.\u001b[39;49mget_loc(key)\n\u001b[1;32m   3894\u001b[0m \u001b[39mif\u001b[39;00m is_integer(indexer):\n\u001b[1;32m   3895\u001b[0m     indexer \u001b[39m=\u001b[39m [indexer]\n",
      "File \u001b[0;32m~/Documents/0_Sherbrooke/CoursSherbrooke/IFT712-Technique d'apprentissage/TPOussama/Projet/.venv/lib/python3.10/site-packages/pandas/core/indexes/base.py:3797\u001b[0m, in \u001b[0;36mIndex.get_loc\u001b[0;34m(self, key)\u001b[0m\n\u001b[1;32m   3792\u001b[0m     \u001b[39mif\u001b[39;00m \u001b[39misinstance\u001b[39m(casted_key, \u001b[39mslice\u001b[39m) \u001b[39mor\u001b[39;00m (\n\u001b[1;32m   3793\u001b[0m         \u001b[39misinstance\u001b[39m(casted_key, abc\u001b[39m.\u001b[39mIterable)\n\u001b[1;32m   3794\u001b[0m         \u001b[39mand\u001b[39;00m \u001b[39many\u001b[39m(\u001b[39misinstance\u001b[39m(x, \u001b[39mslice\u001b[39m) \u001b[39mfor\u001b[39;00m x \u001b[39min\u001b[39;00m casted_key)\n\u001b[1;32m   3795\u001b[0m     ):\n\u001b[1;32m   3796\u001b[0m         \u001b[39mraise\u001b[39;00m InvalidIndexError(key)\n\u001b[0;32m-> 3797\u001b[0m     \u001b[39mraise\u001b[39;00m \u001b[39mKeyError\u001b[39;00m(key) \u001b[39mfrom\u001b[39;00m \u001b[39merr\u001b[39;00m\n\u001b[1;32m   3798\u001b[0m \u001b[39mexcept\u001b[39;00m \u001b[39mTypeError\u001b[39;00m:\n\u001b[1;32m   3799\u001b[0m     \u001b[39m# If we have a listlike key, _check_indexing_error will raise\u001b[39;00m\n\u001b[1;32m   3800\u001b[0m     \u001b[39m#  InvalidIndexError. Otherwise we fall through and re-raise\u001b[39;00m\n\u001b[1;32m   3801\u001b[0m     \u001b[39m#  the TypeError.\u001b[39;00m\n\u001b[1;32m   3802\u001b[0m     \u001b[39mself\u001b[39m\u001b[39m.\u001b[39m_check_indexing_error(key)\n",
      "\u001b[0;31mKeyError\u001b[0m: 'species'"
     ]
    }
   ],
   "source": [
    "dataManager = DataManager()\n",
    "\n",
    "constants, x_train, x_test, t_train, t_test = dataManager.load_data()\n",
    "# constants.print()\n",
    "t_train_onehot = dataManager.one_hot_encoding(t_train)\n",
    "t_test_onehot = dataManager.one_hot_encoding(t_test)\n",
    "\n",
    "print(f\"x_train.shape: {x_train.shape}\")\n",
    "print(f\"x_test.shape: {x_test.shape}\")\n",
    "print(f\"t_train.shape: {t_train.shape}\")\n",
    "print(f\"t_test.shape: {t_test.shape}\")\n"
   ]
  },
  {
   "cell_type": "markdown",
   "metadata": {},
   "source": [
    "## Préparation du modèle"
   ]
  },
  {
   "cell_type": "markdown",
   "metadata": {},
   "source": [
    "### Perceptron"
   ]
  },
  {
   "cell_type": "code",
   "execution_count": null,
   "metadata": {},
   "outputs": [],
   "source": [
    "# model = Perceptron(constants)\n",
    "# hyperparameters_choices = {\n",
    "# \t\"alpha\": [0.1, 0.2, 0.01],\n",
    "# \t\"max_iter\": [100, 200, 300],\n",
    "# }"
   ]
  },
  {
   "cell_type": "code",
   "execution_count": null,
   "metadata": {},
   "outputs": [],
   "source": [
    "hyperparameters = {\n",
    "    'max_depth': [10, 20, 30, None],\n",
    "    'min_samples_split': [2, 5, 10],\n",
    "    'min_samples_leaf': [1, 2, 4]\n",
    "}"
    "model = NeuralNetwork(constants)\n",
    "# hyperparameters_choices = {\n",
    "# \t\"alpha\": [1e-5],\n",
    "# \t\"max_iter\": [300],\n",
    "# \t\"batch_size\": [32, \"auto\"],\n",
    "# \t\"hidden_layer_sizes\" : [(100,1), (75, 2), (50, 3)]\n",
    "# }\n",
    "hyperparameters_choices = {\n",
    "\t\"alpha\": [1e-4],\n",
    "\t\"max_iter\": [500],\n",
    "\t\"batch_size\": [\"auto\"],\n",
    "\t\"hidden_layer_sizes\" : [(100,)]\n",
    "}"
   ]
  },
  {
   "cell_type": "code",
   "execution_count": 28,
   "metadata": {},
   "outputs": [
    {
     "name": "stderr",
     "output_type": "stream",
     "text": [
      "/home/okhaloui/Documents/UDS/Techniques d'apprentissage/IFT712-Project/.venv/lib/python3.10/site-packages/sklearn/model_selection/_split.py:737: UserWarning: The least populated class in y has only 4 members, which is less than n_splits=5.\n",

      "  warnings.warn(\n"
     ]
    }
   ],
   "source": [
    "# hyperparameters = model.find_optimal_hyperparameters(x_train, t_train, hyperparameters_choices)\n",
    "# print(f\"hyperparameters: {hyperparameters}\")"
   ]
  },
  {
   "cell_type": "markdown",
   "metadata": {},
   "source": [
    "## Apprentissage du modèle"
   ]
  },
  {
   "cell_type": "code",
   "execution_count": 8,
   "metadata": {},
   "outputs": [
    {
     "name": "stderr",
     "output_type": "stream",
     "text": [
      "/home/timwhity/Documents/0_Sherbrooke/CoursSherbrooke/IFT712-Technique d'apprentissage/TPOussama/Projet/.venv/lib/python3.10/site-packages/sklearn/neural_network/_multilayer_perceptron.py:691: ConvergenceWarning: Stochastic Optimizer: Maximum iterations (300) reached and the optimization hasn't converged yet.\n",
      "  warnings.warn(\n"
     ]
    }
   ],
   "source": [
    "model.train(x_train, t_train, hyperparameters)"
   ]
  },
  {
   "cell_type": "code",
   "execution_count": 21,
   "metadata": {},
   "outputs": [
    {
     "name": "stdout",
     "output_type": "stream",
     "text": [
      "0.03535353535353535\n"
     ]
    }
   ],
   "source": [
    "print(model.model.score(x_train, t_train))"
   ]
  },
  {
   "cell_type": "markdown",
   "metadata": {},
   "source": [
    "## Tests et visualisation"
   ]
  },
  {
   "cell_type": "code",
   "execution_count": 22,
   "metadata": {},
   "outputs": [],
   "source": [
    "t_pred = model.predict(x_test)"
   ]
  },
  {
   "cell_type": "code",
   "execution_count": 23,
   "metadata": {},
   "outputs": [],
   "source": [
    "visualize = Visualize(constants, t_pred, t_test)"
   ]
  },
  {
   "cell_type": "code",
   "execution_count": 10,
   "metadata": {},
   "outputs": [
    {
     "name": "stdout",
     "output_type": "stream",
     "text": [
      "===========================================\n",

      "Accuracy       = 0.000\n",
      "Mean precision = 0.000\n",
      "Mean recall    = 0.000\n",
      "Mean F1 score  = 0.000\n",
      "===========================================\n"
     ]
    }
   ],
   "source": [
    "# visualize.print_labels_scores()\n",
    "visualize.print_mean_scores()"
   ]
  },
  {
   "cell_type": "code",

   "execution_count": 25,
   "metadata": {},
   "outputs": [
    {
     "data": {
      "image/png": "iVBORw0KGgoAAAANSUhEUgAAAeQAAAHqCAYAAADVpD2JAAAAOXRFWHRTb2Z0d2FyZQBNYXRwbG90bGliIHZlcnNpb24zLjguMiwgaHR0cHM6Ly9tYXRwbG90bGliLm9yZy8g+/7EAAAACXBIWXMAAA9hAAAPYQGoP6dpAAA+6UlEQVR4nO3de3zO9f/H8ee1sWvDds0hm2VmKIcco/wWhRrrTHTQl74j9C0jh0rU16nSokhUVGTqy1dHFX3TV4R8nUlRLKQsh0llF2OHts/vD1/X12UO18Xn2nV9rj3ubp/bbZ/T+/O6Pra99nq/PwebYRiGAACAX4X4OwAAAEBCBgAgIJCQAQAIACRkAAACAAkZAIAAQEIGACAAkJABAAgAJGQAAAIACRkAgABAQgYAIACQkAEAuEhjxoyRzWZzmxo0aOBVG+V8FBsAAGXKFVdcoS+++MI1X66cdymWhAwAgAnKlSun2NjYC96fLmsAAEywY8cOxcXFqU6dOurRo4f27Nnj1f42Xr8IALCqvLw8FRQU+KRtwzBks9ncltntdtnt9hLbfvbZZzp69Kjq16+v/fv3a+zYsdq7d6+2bt2qyMhIj45HQgYAWFJeXp4iIqtKfx7zSfuVKlXS0aNH3ZaNHj1aY8aMOe++hw8fVkJCgiZNmqQ+ffp4dDzGkAEAllRQUCD9eUz2K3pLoWHmNl5UoKPfzVJWVpaioqJci89UHZ9JdHS0Lr/8cu3cudPjQ5KQAQDWFhomm8kJ+WTXcVRUlFtC9tTRo0e1a9cu3XfffR7vw0VdAABrs0my2UyevAvh0Ucf1fLly/XTTz9p1apVuuOOOxQaGqp7773X4zaokAEAuEi//PKL7r33Xv3222+65JJL1LZtW61Zs0aXXHKJx22QkAEA1mYLOTGZ3aYX5s2bd9GHpMsaAIAAQIUMALC2k+O+ZrdZykjIAABrC4AuazPQZQ0AQACgQgYAWFuQdFlTIQMAEACokAEAFueDMWQ/1KtUyAAABAAqZACAtTGGDAAAzEKFDACwtiC5D5mEDACwNrqsAQCAWaiQAQDWFiRd1lTIAAAEACpkAIC1MYYMAADMQoUMALC2IBlDJiEDAKzNZvNBQqbLGgCAMokKGQBgbSG2E5PZbZYyKmQAAAIACRk4zY4dO9SpUyc5HA7ZbDZ99NFHprb/008/yWazKSMjw9R2g0Ht2rXVq1cvf4cBqzl5UZfZUykjISMg7dq1S3/7299Up04dhYeHKyoqSm3atNFLL72k48eP+/TYqamp2rJli8aNG6e3335brVq18unxgtH333+vMWPG6KeffvJ3KIBlMIaMgPPpp5/qrrvukt1u11//+lc1btxYBQUFWrlypR577DF99913ev31131y7OPHj2v16tV68sknNWDAAJ8cIyEhQcePH1f58uV90n4g+P777zV27Fi1b99etWvX9ni/zMxMhYRQJ8BLQfJgEBIyAsru3bvVvXt3JSQkaOnSpapRo4ZrXVpamnbu3KlPP/3UZ8f/9ddfJUnR0dE+O4bNZlN4eLjP2rcawzCUl5eniIgI2e12f4cD+A1/iiKgTJgwQUePHtXMmTPdkvFJ9erV06BBg1zzf/75p55++mnVrVtXdrtdtWvX1hNPPKH8/Hy3/WrXrq1bb71VK1eu1NVXX63w8HDVqVNHb731lmubMWPGKCEhQZL02GOPyWazuaq7Xr16nbHSGzNmjGyn/SW9ePFitW3bVtHR0apUqZLq16+vJ554wrX+bGPIS5cu1bXXXquKFSsqOjpanTt31rZt2854vJ07d6pXr16Kjo6Ww+FQ7969dezYsbOf2P9q3769GjdurG+//Vbt2rVThQoVVK9ePb3//vuSpOXLl6t169aKiIhQ/fr19cUXX7jt//PPP6t///6qX7++IiIiVLVqVd11111uXdMZGRm66667JEkdOnSQzWaTzWbTsmXLJP3v/+Lzzz9Xq1atFBERoddee8217uQYsmEY6tChgy655BIdPHjQ1X5BQYGaNGmiunXrKjc397yfGWUAY8iA+RYsWKA6derommuu8Wj7vn37atSoUbryyiv14osvql27dkpPT1f37t1LbLtz507deeed6tixoyZOnKjKlSurV69e+u677yRJXbt21YsvvihJuvfee/X2229r8uTJXsX/3Xff6dZbb1V+fr6eeuopTZw4Ubfffrv+85//nHO/L774QikpKTp48KDGjBmjoUOHatWqVWrTps0Zx2HvvvtuHTlyROnp6br77ruVkZGhsWPHehTjH3/8oVtvvVWtW7fWhAkTZLfb1b17d73zzjvq3r27br75Zj333HPKzc3VnXfeqSNHjrj2Xb9+vVatWqXu3btrypQpevDBB7VkyRK1b9/e9QfBddddp4cffliS9MQTT+jtt9/W22+/rYYNG7rayczM1L333quOHTvqpZdeUvPmzUvEabPZ9OabbyovL08PPviga/no0aP13XffadasWapYsaJHnxlB7mSXtdlTKaPLGgHD6XRq79696ty5s0fbf/PNN5o9e7b69u2rN954Q5LUv39/Va9eXS+88IK+/PJLdejQwbV9ZmamVqxYoWuvvVbSiaQWHx+vWbNm6YUXXlDTpk0VFRWlIUOG6Morr1TPnj29/gyLFy9WQUGBPvvsM1WrVs3j/R577DFVqVJFq1evVpUqVSRJXbp0UYsWLTR69GjNnj3bbfsWLVpo5syZrvnffvtNM2fO1Pjx4897rH379mnu3Lm69957JUkdO3ZUgwYN9Je//EWrVq1S69atJUkNGzZUSkqKPvjgA1fVesstt+jOO+90a++2225TUlKSPvjgA913332qU6eOrr32Wk2ZMkUdO3ZU+/btS8Swc+dOLVq0SCkpKeeMNTExURMnTtTf/vY3zZkzR/Xq1dPzzz+vQYMG6brrrjvvZwWshAoZAcPpdEqSIiMjPdr+X//6lyRp6NChbssfeeQRSSox1tyoUSNXMpakSy65RPXr19ePP/54wTGf7uTY88cff6zi4mKP9tm/f782b96sXr16uZKxJDVt2lQdO3Z0fc5TnVoxStK1116r3377zXUOz6VSpUpuPQj169dXdHS0GjZs6ErGklxfn3p+IiIiXF8XFhbqt99+U7169RQdHa1NmzZ58GlPSExMPG8yPumBBx5QSkqKBg4cqPvuu09169bVs88+6/GxUAbQZQ2YKyoqSpLcukjP5eeff1ZISIjq1avntjw2NlbR0dH6+eef3ZbXqlWrRBuVK1fWH3/8cYERl3TPPfeoTZs26tu3r2JiYtS9e3e9++6750zOJ+OsX79+iXUNGzbUoUOHSoyVnv5ZKleuLEkefZaaNWuWGPd2OByKj48vsez0No8fP65Ro0YpPj5edrtd1apV0yWXXKLDhw8rJyfnvMc+KTEx0eNtJWnmzJk6duyYduzYoYyMDLc/DIBgQUJGwIiKilJcXJy2bt3q1X6nJ5ezCQ0NPeNywzAu+BhFRUVu8xEREVqxYoW++OIL3Xffffr22291zz33qGPHjiW2vRgX81nOtq8nbQ4cOFDjxo3T3XffrXfffVf//ve/tXjxYlWtWtXjHgFJXifUZcuWuS7U27Jli1f7ogwIkjFkEjICyq233qpdu3Zp9erV5902ISFBxcXF2rFjh9vy7OxsHT582HXFtBkqV66sw4cPl1h+ehUuSSEhIbrhhhs0adIkff/99xo3bpyWLl2qL7/88oxtn4wzMzOzxLrt27erWrVqAXPx0vvvv6/U1FRNnDjRdYFc27ZtS5wbT/9I8sT+/fs1cOBAderUSbfeeqseffTRM553wOpIyAgow4YNU8WKFdW3b19lZ2eXWL9r1y699NJLkqSbb75ZkkpcCT1p0iRJJy5AMkvdunWVk5Ojb7/91rVs//79mj9/vtt2v//+e4l9T15BfPqtWCfVqFFDzZs31+zZs90S29atW/Xvf//b9TkDQWhoaIkqfOrUqSWq/5N/QJzpjxhv9evXT8XFxZo5c6Zef/11lStXTn369PGoNwBlRJCMIXOVNQJK3bp1NXfuXN1zzz1q2LCh25O6Vq1apffee891xW+zZs2Umpqq119/XYcPH1a7du20bt06zZ49W126dHG7wvpide/eXY8//rjuuOMOPfzwwzp27JimTZumyy+/3O1ipqeeekorVqzQLbfcooSEBB08eFCvvvqqatasqbZt2561/eeff1433XSTkpKS1KdPHx0/flxTp06Vw+HQmDFjTPscF+vWW2/V22+/LYfDoUaNGmn16tX64osvVLVqVbftmjdvrtDQUI0fP145OTmy2+26/vrrVb16da+ON2vWLH366afKyMhQzZo1JZ34A6Bnz56aNm2a+vfvb9png4XxpC7AN26//XZ9++23ev755/Xxxx9r2rRpstvtatq0qSZOnKh+/fq5tp0xY4bq1KmjjIwMzZ8/X7GxsRoxYoRGjx5takxVq1bV/PnzNXToUA0bNkyJiYlKT0/Xjh073BLy7bffrp9++klvvvmmDh06pGrVqqldu3YaO3as6yKpM0lOTtaiRYs0evRojRo1SuXLl1e7du00fvx4ry+A8qWXXnpJoaGhmjNnjvLy8tSmTRvXPdSnio2N1fTp05Wenq4+ffqoqKhIX375pVcJ+ZdfftGQIUN02223KTU11bW8R48e+uCDDzRs2DDddNNNAXV+gIthM+j3AQBYkNPplMPhkD35OdnKm/s4WqMwT/lfDFdOTo7rDhBfYwwZAIAAQJc1AMDagmQMmQoZAIAAQIUMALA2m83825SokAEAKJsskZBfeeUV1a5dW+Hh4WrdurXWrVvn75AAAIGCB4OUjnfeeUdDhw7V9OnT1bp1a02ePFkpKSnKzMz06J7G4uJi7du3T5GRkaY+zg8A4BnDMHTkyBHFxcUpJMQHiS5ILuoK+PuQW7durauuukovv/yypBMJNj4+XgMHDtTw4cPPu/8vv/xS4i02AIDSl5WV5Xrimhlc9yHfOFG28ua+AcwoPK78RY+U6n3IAV0hFxQUaOPGjRoxYoRrWUhIiJKTk8/68oH8/Hy3Zwaf/Htj5+4sRZbSSQUA/M8Rp1P1EuM9fte513zRxUyXtbtDhw6pqKhIMTExbstjYmK0ffv2M+6Tnp6usWPHllgeGRVVan/lAABKYtjw3CxxUZc3RowYoZycHNeUlZXl75AAAL4UJO9DDugKuVq1agoNDS3xGr7s7GzFxsaecR+73S673V4a4QEAYJqArpDDwsLUsmVLLVmyxLWsuLhYS5YsUVJSkh8jAwAEDG57Kh1Dhw5VamqqWrVqpauvvlqTJ09Wbm6uevfu7e/QAAAwTcAn5HvuuUe//vqrRo0apQMHDqh58+ZatGhRiQu9AABlVJDchxzwCVmSBgwYoAEDBvg7DABAALLZbOZfwc2zrAEAKJssUSEDAHA2VMgAAMA0VMgAAGuz/Xcyu81SRoUMAEAAoEIGAFhasIwhk5ABAJYWLAmZLmsAAAIAFTIAwNKokAEAgGmokAEAlkaFDAAATEOFDACwNh4MAgAAzEKFDACwtGAZQyYhAwAszWaTDxKyuc15gi5rAAACABUyAMDSbPJBl7UfSmQqZAAAAgAVMgDA0oLloi4qZAAAAgAVMgDA2oLkwSAkZACAtfmgy9qgyxoAgLKJChkAYGm+uKjL/Nuozo8KGQCAAECFDACwNCpkAABQwnPPPSebzabBgwd7tR8VMgDA2gLotqf169frtddeU9OmTb3elwoZAAATHD16VD169NAbb7yhypUre70/CRkAYGknx5DNnryVlpamW265RcnJyRf0OeiyBgBYmi8v6nI6nW7L7Xa77HZ7ie3nzZunTZs2af369Rd8TCpkAADOIj4+Xg6HwzWlp6eX2CYrK0uDBg3SnDlzFB4efsHHokIGAFiaLyvkrKwsRUVFuZafqTreuHGjDh48qCuvvNK1rKioSCtWrNDLL7+s/Px8hYaGnveYJGQAAM4iKirKLSGfyQ033KAtW7a4Levdu7caNGigxx9/3KNkLJGQAQAW5+8Hg0RGRqpx48ZuyypWrKiqVauWWH4ujCEDABAAqJABANYWQA8GOWnZsmVe70NCBgBYmr+7rM1ClzUAAAGAChkAYGlUyAAAwDRUyAAAS6NCBgAApqFCBgBYWwDe9nQhqJABAAgAVMgAAEsLljFkEjIAwNKCJSHTZQ0AQACgQgYAWJpNPqiQ/XBVFxUyAAABgAoZAGBpjCEDAADTUCEDAKyNB4MAAACzUCEDACwtWMaQScgAAEsLloRMlzUAAAGAChkAYGk224nJ7DZLGxUyAAABgAoZAGBpJypks8eQTW3OI1TIAAAEACpkAIC1+WAM2R8PBiEhAwAsjdueTJCenq6rrrpKkZGRql69urp06aLMzEy3bfLy8pSWlqaqVauqUqVK6tatm7Kzs/0UMQAAvuHXhLx8+XKlpaVpzZo1Wrx4sQoLC9WpUyfl5ua6thkyZIgWLFig9957T8uXL9e+ffvUtWtXP0YNAAgkJ297MnsqbX7tsl60aJHbfEZGhqpXr66NGzfquuuuU05OjmbOnKm5c+fq+uuvlyTNmjVLDRs21Jo1a/R///d//ggbAADTBdRV1jk5OZKkKlWqSJI2btyowsJCJScnu7Zp0KCBatWqpdWrV/slRgBAYAkJsflkKm0Bc1FXcXGxBg8erDZt2qhx48aSpAMHDigsLEzR0dFu28bExOjAgQNnbCc/P1/5+fmueafT6bOYAQAwS8BUyGlpadq6davmzZt3Ue2kp6fL4XC4pvj4eJMiBAAEomAZQw6IhDxgwAAtXLhQX375pWrWrOlaHhsbq4KCAh0+fNht++zsbMXGxp6xrREjRignJ8c1ZWVl+TJ0AABM4deEbBiGBgwYoPnz52vp0qVKTEx0W9+yZUuVL19eS5YscS3LzMzUnj17lJSUdMY27Xa7oqKi3CYAQPA6eR+y2VNp8+sYclpamubOnauPP/5YkZGRrnFhh8OhiIgIORwO9enTR0OHDlWVKlUUFRWlgQMHKikpiSusAQCSgudtT35NyNOmTZMktW/f3m35rFmz1KtXL0nSiy++qJCQEHXr1k35+flKSUnRq6++WsqRAgDgW35NyIZhnHeb8PBwvfLKK3rllVdKISIAgNXw6EwAAGCagLkPGQCAC0GFDAAATEOFDACwNK6yBgAgANjkgy5r0WUNAECZRIUMALC0YOmypkIGACAAUCEDACyN254AAIBpqJABAJbGGDIAADANFTIAwNKCZQyZhAwAsDS6rAEAgGmokAEAlhYsXdZUyAAABAAqZACAtflgDNkP75agQgYAIBBQIQMALC1YxpBJyAAAS+O2JwAAYBoqZACApQVLlzUVMgAAAYAKGQBgaYwhAwAA05SZCvmH/UdU6eiJP3kaxEX6ORoEq+37jrjNm/W95qt2EThmrN3tNt+3daKfIrEexpABAIBpykyFDAAITsFSIZeZhHx5jUhFRdHNB9/yVVcyXdTBjy7qC8dFXQAAwDRlpkIGAASnYOmypkIGACAAUCEDACyNMWQAAGAaKmQAgKUxhgwAAExDhQwAsDSbfDCGbG5zHiEhAwAsLcRmU4jJGdns9jw6ZqkfEQAAlECFDACwNG57AgAApqFCBgBYGrc9AQAASdK0adPUtGlTRUVFKSoqSklJSfrss8+8aoMKGQBgaSG2E5PZbXqjZs2aeu6553TZZZfJMAzNnj1bnTt31tdff60rrrjCozZIyAAAa7P5oIvZy+Zuu+02t/lx48Zp2rRpWrNmDQkZAAB/KCoq0nvvvafc3FwlJSV5vB8JGQBgab687cnpdLott9vtstvtZ9xny5YtSkpKUl5enipVqqT58+erUaNGHh+Ti7oAADiL+Ph4ORwO15Senn7WbevXr6/Nmzdr7dq1euihh5Samqrvv//e42NRIQMALM32339mtylJWVlZioqKci0/W3UsSWFhYapXr54kqWXLllq/fr1eeuklvfbaax4dk4QMAMBZnLyN6UIUFxcrPz/f4+1JyAAASwuE255GjBihm266SbVq1dKRI0c0d+5cLVu2TJ9//rnHbZCQAQC4SAcPHtRf//pX7d+/Xw6HQ02bNtXnn3+ujh07etwGCRkAYGmB8OjMmTNnXvQxScgAAEvjbU8AAMA0VMgAAEsLsdkUYnJJa3Z7Hh2z1I8IAABKoEIGAFgaY8gAAMA0VMgAAEsLhNuezOBRQv7kk088bvD222+/4GAAAPBWsHRZe5SQu3Tp4lFjNptNRUVFFxMPAABlkkcJubi42NdxAABwQbjtSVJeXp5ZcQAAUKZ5nZCLior09NNP69JLL1WlSpX0448/SpJGjhx5Uc/yfO6552Sz2TR48GDXsry8PKWlpalq1aqqVKmSunXrpuzs7As+BgAg+Nh8NJU2rxPyuHHjlJGRoQkTJigsLMy1vHHjxpoxY8YFBbF+/Xq99tpratq0qdvyIUOGaMGCBXrvvfe0fPly7du3T127dr2gYwAAEMi8TshvvfWWXn/9dfXo0UOhoaGu5c2aNdP27du9DuDo0aPq0aOH3njjDVWuXNm1PCcnRzNnztSkSZN0/fXXq2XLlpo1a5ZWrVqlNWvWeH0cAEBwOnnbk9lTafM6Ie/du1f16tUrsby4uFiFhYVeB5CWlqZbbrlFycnJbss3btyowsJCt+UNGjRQrVq1tHr16rO2l5+fL6fT6TYBABDovH4wSKNGjfTVV18pISHBbfn777+vFi1aeNXWvHnztGnTJq1fv77EugMHDigsLEzR0dFuy2NiYnTgwIGztpmenq6xY8d6FQcAwLpCbCcms9ssbV4n5FGjRik1NVV79+5VcXGxPvzwQ2VmZuqtt97SwoULPW4nKytLgwYN0uLFixUeHu5tGGc1YsQIDR061DXvdDoVHx9vWvsAgMASLE/q8rrLunPnzlqwYIG++OILVaxYUaNGjdK2bdu0YMECdezY0eN2Nm7cqIMHD+rKK69UuXLlVK5cOS1fvlxTpkxRuXLlFBMTo4KCAh0+fNhtv+zsbMXGxp61XbvdrqioKLcJAIBAd0HPsr722mu1ePHiizrwDTfcoC1btrgt6927txo0aKDHH39c8fHxKl++vJYsWaJu3bpJkjIzM7Vnzx4lJSVd1LEBAMHFH4+6NNsFv1xiw4YN2rZtm6QT48otW7b0av/IyEg1btzYbVnFihVVtWpV1/I+ffpo6NChqlKliqKiojRw4EAlJSXp//7v/y40bAAAApLXCfmXX37Rvffeq//85z+uC64OHz6sa665RvPmzVPNmjVNC+7FF19USEiIunXrpvz8fKWkpOjVV181rX0AgPWV2THkvn37qrCwUNu2bdPvv/+u33//Xdu2bVNxcbH69u17UcEsW7ZMkydPds2Hh4frlVde0e+//67c3Fx9+OGH5xw/BgDAqryukJcvX65Vq1apfv36rmX169fX1KlTde2115oaHAAA51Nmb3uKj48/4wNAioqKFBcXZ0pQAAB4qsx2WT///PMaOHCgNmzY4Fq2YcMGDRo0SC+88IKpwQEAUFZ4VCFXrlzZ7a+F3NxctW7dWuXKndj9zz//VLly5XT//ferS5cuPgkUAIAz8cXbmfxxF5VHCfnUC60AAID5PErIqampvo4DAIALEmKzKcTkMV+z2/PEBT8YRJLy8vJUUFDgtoxHVQIA4D2vL+rKzc3VgAEDVL16dVWsWFGVK1d2mwAAKE02m2+m0uZ1Qh42bJiWLl2qadOmyW63a8aMGRo7dqzi4uL01ltv+SJGAACCntdd1gsWLNBbb72l9u3bq3fv3rr22mtVr149JSQkaM6cOerRo4cv4gQA4IzK7H3Iv//+u+rUqSPpxHjx77//Lklq27atVqxYYW50AACcR5ntsq5Tp452794tSWrQoIHeffddSScq55MvmwAAAN7xusu6d+/e+uabb9SuXTsNHz5ct912m15++WUVFhZq0qRJvogRAICzKrO3PQ0ZMsT1dXJysrZv366NGzeqXr16atq0qanBAQBQVlzUfciSlJCQoISEBDNi8ameszeofEQlSdK4mxu6rXvyX9tcX5++bmXWIbf5vq0T3eZnrN3t+vqzLb+6rTu9rdPd+PTnbvOLRqa4vm4QF3nW45wpju37jpx139oPve82/9O0O71a741T2zq9nVNjPFOc51t/rm1Pd659veHtcU7f/vTvn3NpG1/tnG2f6zinfg9L5/4eP90Hfa8+Z9tmnUvJ/fvj1O93ybuftWcyNrqt8/Z79tTPmNR5hNu66//2V7f508/PhR5HKnkuu81Y5/r6fL97vPn+OP33xem/m871f37676WWLWu5zZ8epyffp0ePnPvn6GL5YszXH2PIHiXkKVOmeNzgww8/fMHBAABQVnmUkF988UWPGrPZbCRkAECpCpbbnmyGYRilftRS5HQ65XA4lP1bDo/1BAA/cDqdiqnqUE6Oub+HT/5+7/uPdQqrUMm0diWp4NhRzeh5tekxn8tFjyEDAOBPIbqAe3g9aLO0kZABAJYWLF3W/vgjAAAAnIYKGQBgaTabFBIEtz1RIQMAEAAuKCF/9dVX6tmzp5KSkrR3715J0ttvv62VK1eaGhwAAOcTYvPNVOqfw9sdPvjgA6WkpCgiIkJff/218vPzJUk5OTl69tlnTQ8QAICywOuE/Mwzz2j69Ol64403VL58edfyNm3aaNOmTaYGBwDA+Zy8ytrsqbR5fVFXZmamrrvuuhLLHQ6HDh8+bEZMAAB4zBddzJboso6NjdXOnTtLLF+5cqXq1KljSlAAAJQ1Xifkfv36adCgQVq7dq1sNpv27dunOXPm6NFHH9VDDz3kixgBADirk297MnsqbV53WQ8fPlzFxcW64YYbdOzYMV133XWy2+169NFHNXDgQF/ECABA0PM6IdtsNj355JN67LHHtHPnTh09elSNGjVSpUrmPtgbAABPhNhsCjG5pDW7PU9c8JO6wsLC1KhRIzNjAQCgzPI6IXfo0OGcl4MvXbr0ogICAMAbZfZtT82bN3ebLyws1ObNm7V161alpqaaFRcAAGWK1wn5xRdfPOPyMWPG6OjRoxcdEAAA3vDFVdGWfrlEz5499eabb5rVHAAAHgmRzXVhl2mTLPw+5NWrVys8PNys5gAAKFO87rLu2rWr27xhGNq/f782bNigkSNHmhYYAACeCJYua68TssPhcJsPCQlR/fr19dRTT6lTp06mBQYAQFniVUIuKipS79691aRJE1WuXNlXMQEA4LFgebmEVwk5NDRUnTp10rZt20jIfrZ93xG3+QZxkaa13W3GOo+3HXdzw7PGMWPt7nPu27d1oneBXaDzxfFMxka3+b/3aun6+nwx+vL/IVCc+v1wrv9vqeS5bhtf7Zzbn4s35/Z8x12Zdcht/mK+9049Hx/0vdqrfU+P06yfgdN/Zs/3/2SmU/+fgvH7vzR5fVFX48aN9eOPP/oiFgAAvGazyfSrrC1x29MzzzyjRx99VAsXLtT+/fvldDrdJgAASlOZe9vTU089pUceeUQ333yzJOn22293e4SmYRiy2WwqKioyP0oAAIKczTAMw5MNQ0NDtX//fm3btu2c27Vr186UwMzidDrlcDiU/VuOoqKi/B0OAJQ5TqdTMVUdyskx9/fwyd/vf/94k8Irmjt+nZd7RM90vtL0mM/F4wr5ZN4OtIQLAEAw8Ooq63O95QkAAH+w/fef2W2WNq8S8uWXX37epPz7779fVEAAAJRFXiXksWPHlnhSFwAA/lQmHwzSvXt3Va9e3VexAABQZnmckBk/BgAEojJXIXt4dxQAAKXKZrOZXjT6owj1OCEXFxf7Mg4AAMo0r1+/CABAIAmWLmuvn2UNAADMR4UMALA0X7wMwhJvewIAAOajQgYAWNrJdxib3WZpIyEDACyNi7oAAIAkKT09XVdddZUiIyNVvXp1denSRZmZmV61QUIGAFib7X8Xdpk1efuyp+XLlystLU1r1qzR4sWLVVhYqE6dOik3N9fjNuiyBgDgIi1atMhtPiMjQ9WrV9fGjRt13XXXedQGCRkAYGkhsinE5PcXn2zP6XS6Lbfb7bLb7efdPycnR5JUpUoVj49JQrao7fuOuM03iIsslX3NNGPtbrf5vq0T/RIH3AXK90egxBGMfHVug/FnOj4+3m1+9OjRGjNmzDn3KS4u1uDBg9WmTRs1btzY42P5fQx579696tmzp6pWraqIiAg1adJEGzZscK03DEOjRo1SjRo1FBERoeTkZO3YscOPEQMAAonZ48enPmgkKytLOTk5rmnEiBHnjSctLU1bt27VvHnzvPocfk3If/zxh9q0aaPy5cvrs88+0/fff6+JEyeqcuXKrm0mTJigKVOmaPr06Vq7dq0qVqyolJQU5eXl+TFyAEBZEBUV5Tadr7t6wIABWrhwob788kvVrFnTq2P5tct6/Pjxio+P16xZs1zLEhP/18VhGIYmT56sv//97+rcubMk6a233lJMTIw++ugjde/evdRjBgAElkC4D9kwDA0cOFDz58/XsmXL3HKZp/yakD/55BOlpKTorrvu0vLly3XppZeqf//+6tevnyRp9+7dOnDggJKTk137OBwOtW7dWqtXrz5jQs7Pz1d+fr5r/vQB+WBxMWM+gTIWFwzjS8EoUL4/AiWOYOSrc+uvn+lAeFJXWlqa5s6dq48//liRkZE6cOCApBM5KyIiwrNjeh2liX788UdNmzZNl112mT7//HM99NBDevjhhzV79mxJcn2gmJgYt/1iYmJc606Xnp4uh8Phmk4fkAcAwGzTpk1TTk6O2rdvrxo1arimd955x+M2/FohFxcXq1WrVnr22WclSS1atNDWrVs1ffp0paamXlCbI0aM0NChQ13zTqeTpAwAQSwQ3vZkGMZFH9OvFXKNGjXUqFEjt2UNGzbUnj17JEmxsbGSpOzsbLdtsrOzXetOZ7fbSwzCAwAQ6PyakNu0aVPiWZ8//PCDEhISJJ24wCs2NlZLlixxrXc6nVq7dq2SkpJKNVYAQGAKkc01jmzaZPKDRjzh1y7rIUOG6JprrtGzzz6ru+++W+vWrdPrr7+u119/XZJks9k0ePBgPfPMM7rsssuUmJiokSNHKi4uTl26dPFn6AAAmMqvCfmqq67S/PnzNWLECD311FNKTEzU5MmT1aNHD9c2w4YNU25urh544AEdPnxYbdu21aJFixQeHu7HyAEAgSIQxpBNOaZhxkh0AHM6nXI4HMr+LYfxZADwA6fTqZiqDuXkmPt7+OTv95eXblVEJXNv5Tp+9IgGXN/Y9JjPhWdZAwAsLUTmXxDljwusSMgAAEuz2WyymdzHbHZ7nvD7yyUAAAAVMgDA4mz/ncxus7RRIQMAEACokAEAlhYIL5cw5ZilfkQAAFACFTIAwPL8MeZrNhIyAMDSguVJXXRZAwAQAKiQAQCWxoNBAACAaaiQAQCWFizPsqZCBgAgAFAhAwAsjTFkAABgGipkAIClBcvLJUjIAABLo8saAACYhgoZAGBp3PYEAABMQ4UMALA0xpABAIBpqJABAJbGbU8AAAQA3ocMAABMQ4UMALC0ENkUYnIns9nteXZMAADgd1TIAABLYwwZAACYhgoZAGBptv/+M7vN0kaFDABAAKBCBgBYWrCMIZOQAQCWZvPBbU90WQMAUEZRIQMALC1YuqypkAEACABUyAAAS6NCBgAApqFCBgBYWrA8GISEDACwtBDbicnsNksbXdYAAAQAKmQAgKUFS5c1FTIAAAGACjlAbd93xG2+QVxkqexrFTPW7nab79s60U+R4EL58/v01GMHys9HWfi59RVuewIAAKahQgYAWJpN5o/5+qFApkIGACAQUCF7KVDGec4VR6COPZk5Ln6+MeNAHCOEO3/+v3hz7NK6XsGq36en/qytzDrktq60ru0IlvuQScgAAEvjticAAGAaKmQAgKUFy21PJGQvldY4z/mOY8XxpouJ2dt9rXh+EJi4x/3crHD9ilWQkAEAlmaT+bcpcdsTAABlFBUyAMDSQmRTiMmDviFcZQ0AQNlEhQwAsLRgGUMmIQMArC1IMjJd1gAABAAqZACApfHoTAAAYBoqZACAtfng0ZmMIQMAUEb5NSEXFRVp5MiRSkxMVEREhOrWraunn35ahmG4tjEMQ6NGjVKNGjUUERGh5ORk7dixw49RAwACic1HU2nza0IeP368pk2bppdfflnbtm3T+PHjNWHCBE2dOtW1zYQJEzRlyhRNnz5da9euVcWKFZWSkqK8vDw/Rg4ACBhBkpH9Ooa8atUqde7cWbfccoskqXbt2vrnP/+pdevWSTpRHU+ePFl///vf1blzZ0nSW2+9pZiYGH300Ufq3r2732IHAMBMfq2Qr7nmGi1ZskQ//PCDJOmbb77RypUrddNNN0mSdu/erQMHDig5Odm1j8PhUOvWrbV69Wq/xAwACCw2H/0rbX6tkIcPHy6n06kGDRooNDRURUVFGjdunHr06CFJOnDggCQpJibGbb+YmBjXutPl5+crPz/fNe90On0UPQAA5vFrhfzuu+9qzpw5mjt3rjZt2qTZs2frhRde0OzZsy+4zfT0dDkcDtcUHx9vYsQAgEBjs/lmKm1+TciPPfaYhg8fru7du6tJkya67777NGTIEKWnp0uSYmNjJUnZ2dlu+2VnZ7vWnW7EiBHKyclxTVlZWb79EAAAmMCvCfnYsWMKCXEPITQ0VMXFxZKkxMRExcbGasmSJa71TqdTa9euVVJS0hnbtNvtioqKcpsAAMErSC6y9u8Y8m233aZx48apVq1auuKKK/T1119r0qRJuv/++yVJNptNgwcP1jPPPKPLLrtMiYmJGjlypOLi4tSlSxd/hg4AgKn8mpCnTp2qkSNHqn///jp48KDi4uL0t7/9TaNGjXJtM2zYMOXm5uqBBx7Q4cOH1bZtWy1atEjh4eF+jBwAEDCC5PWLNuPUx2IFIafTKYfDoezfcui+BgA/cDqdiqnqUE6Oub+HT/5+X7HlF1WKNPf3+9EjTl3XpKbpMZ8LL5fwoe37jrjNN4iL9FMkgcHM8xGo5/ZccV1MzFb8vP5sy0yBGhcCy4oVK/T8889r48aN2r9/v+bPn+/10CovlwAAWFog3PaUm5urZs2a6ZVXXrngz0GFDADARbrppptcT5m8UCRkH6Jry52Z5yNQz+254rqYmK34ef3ZlpkCNS78jy+v6Tr9aY92u112u93ko51AlzUAAGcRHx/v9vTHkw+u8gUqZACAtfmwRM7KynK7ytpX1bFEQgYAWJwv3s50sr3SfOIjXdYAAAQAKmQAgKX54u1M3rZ39OhR7dy50zW/e/dubd68WVWqVFGtWrU8aoOEDADARdqwYYM6dOjgmh86dKgkKTU1VRkZGR61QUIGAFhaIDzKun379rrYJ1EzhgwAQACgQgYAWFsglMgmoEIGACAAUCEDACzNl/chlyYSMgDA0gLhticz0GUNAEAAoEIGAFhakFzTRYUMAEAgoEIGAFhbkJTIVMgAAAQAKmQAgKVx2xMAAAGA254AAIBpqJABAJYWJNd0USEDABAIqJABANYWJCUyFTIAAAGAChkAYGnBctsTFTIAAAGAChkAYG0+uA/ZH2PIJGQAgKUFyTVddFkDABAIqJABANYWJCUyFTIAAAGAChkAYGnc9gQAAExDhQwAsDRevwgAAExDhQwAsLQguciahAwAsLggych0WQMAEACokAEAlsZtTwAAwDRBXyEbhiFJOuJ0+jkSACibTv7+Pfn72Gw2+eC2J3Ob80jQJ+QjR45Ikuolxvs5EgAo244cOSKHw+HvMAJW0CfkuLg4ZWVlyTAM1apVS1lZWYqKivJ3WAHN6XQqPj6ec+UBzpV3OF+eC6ZzZRiGjhw5ori4OJ+0HyQXWQd/Qg4JCVHNmjXl/G+XSVRUlOW/uUsL58pznCvvcL48FyznypeVMU/qAgAApgn6ChkAEOyCo9O6zFTIdrtdo0ePlt1u93coAY9z5TnOlXc4X57jXJU9NsNX16EDAOBDTqdTDodD237+VZEmj7MfcTrVMOES5eTklNoYfpmpkAEACGSMIQMALC04RpCpkAEACAhlIiG/8sorql27tsLDw9W6dWutW7fO3yH5XXp6uq666ipFRkaqevXq6tKlizIzM922ycvLU1pamqpWrapKlSqpW7duys7O9lPEgeO5556TzWbT4MGDXcs4V+727t2rnj17qmrVqoqIiFCTJk20YcMG13rDMDRq1CjVqFFDERERSk5O1o4dO/wYsX8UFRVp5MiRSkxMVEREhOrWraunn37a7RGTnKvzO3kfstlTaQv6hPzOO+9o6NChGj16tDZt2qRmzZopJSVFBw8e9HdofrV8+XKlpaVpzZo1Wrx4sQoLC9WpUyfl5ua6thkyZIgWLFig9957T8uXL9e+ffvUtWtXP0btf+vXr9drr72mpk2bui3nXP3PH3/8oTZt2qh8+fL67LPP9P3332vixImqXLmya5sJEyZoypQpmj59utauXauKFSsqJSVFeXl5foy89I0fP17Tpk3Tyy+/rG3btmn8+PGaMGGCpk6d6tqGc3V+Nh/9K3VGkLv66quNtLQ013xRUZERFxdnpKen+zGqwHPw4EFDkrF8+XLDMAzj8OHDRvny5Y333nvPtc22bdsMScbq1av9FaZfHTlyxLjsssuMxYsXG+3atTMGDRpkGAbn6nSPP/640bZt27OuLy4uNmJjY43nn3/etezw4cOG3W43/vnPf5ZGiAHjlltuMe6//363ZV27djV69OhhGAbn6nxycnIMScYPew4Z+w8XmDr9sOeQIcnIyckptc8T1BVyQUGBNm7cqOTkZNeykJAQJScna/Xq1X6MLPDk5ORIkqpUqSJJ2rhxowoLC93OXYMGDVSrVq0ye+7S0tJ0yy23uJ0TiXN1uk8++UStWrXSXXfdperVq6tFixZ64403XOt3796tAwcOuJ0vh8Oh1q1bl7nzdc0112jJkiX64YcfJEnffPONVq5cqZtuukkS58pjNh9NpSyor7I+dOiQioqKFBMT47Y8JiZG27dv91NUgae4uFiDBw9WmzZt1LhxY0nSgQMHFBYWpujoaLdtY2JidODAAT9E6V/z5s3Tpk2btH79+hLrOFfufvzxR02bNk1Dhw7VE088ofXr1+vhhx9WWFiYUlNTXefkTD+XZe18DR8+XE6nUw0aNFBoaKiKioo0btw49ejRQ5I4V2VMUCdkeCYtLU1bt27VypUr/R1KQMrKytKgQYO0ePFihYeH+zucgFdcXKxWrVrp2WeflSS1aNFCW7du1fTp05Wamurn6ALLu+++qzlz5mju3Lm64oortHnzZg0ePFhxcXGcKy9w25MFVKtWTaGhoSWuds3OzlZsbKyfogosAwYM0MKFC/Xll1+qZs2aruWxsbEqKCjQ4cOH3bYvi+du48aNOnjwoK688kqVK1dO5cqV0/LlyzVlyhSVK1dOMTExnKtT1KhRQ40aNXJb1rBhQ+3Zs0eSXOeEn0vpscce0/Dhw9W9e3c1adJE9913n4YMGaL09HRJnKuyJqgTclhYmFq2bKklS5a4lhUXF2vJkiVKSkryY2T+ZxiGBgwYoPnz52vp0qVKTEx0W9+yZUuVL1/e7dxlZmZqz549Ze7c3XDDDdqyZYs2b97smlq1aqUePXq4vuZc/U+bNm1K3EL3ww8/KCEhQZKUmJio2NhYt/PldDq1du3aMne+jh07ppAQ91/DoaGhKi4ulsS58lSw3PYU9FdZz5s3z7Db7UZGRobx/fffGw888IARHR1tHDhwwN+h+dVDDz1kOBwOY9myZcb+/ftd07Fjx1zbPPjgg0atWrWMpUuXGhs2bDCSkpKMpKQkP0YdOE69ytowOFenWrdunVGuXDlj3Lhxxo4dO4w5c+YYFSpUMP7xj3+4tnnuueeM6Oho4+OPPza+/fZbo3PnzkZiYqJx/PhxP0Ze+lJTU41LL73UWLhwobF7927jww8/NKpVq2YMGzbMtQ3n6uxOXmW965ffjIPOQlOnXb/8VupXWQd9QjYMw5g6dapRq1YtIywszLj66quNNWvW+Dskv5N0xmnWrFmubY4fP27079/fqFy5slGhQgXjjjvuMPbv3++/oAPI6QmZc+VuwYIFRuPGjQ273W40aNDAeP31193WFxcXGyNHjjRiYmIMu91u3HDDDUZmZqafovUfp9NpDBo0yKhVq5YRHh5u1KlTx3jyySeN/Px81zacq7MLtoTM254AAJZ08m1Pu/b+5pO3PdW9tCpvewIAoKzhticAgKVx2xMAADANFTIAwNJ8cZsSb3sCAKCMokIGAFicL16XWPolMgkZAGBpdFkDAADTkJABE/Tq1UtdunRxzbdv316DBw8u9TiWLVsmm81W4kUXp7LZbProo488bnPMmDFq3rz5RcX1008/yWazafPmzRfVDhDMSMgIWr169ZLNZpPNZlNYWJjq1aunp556Sn/++afPj/3hhx/q6aef9mhbT5IogODHGDKC2o033qhZs2YpPz9f//rXv5SWlqby5ctrxIgRJbYtKChQWFiYKcetUqWKKe0AOD/GkAELsNvtio2NVUJCgh566CElJyfrk08+kfS/buZx48YpLi5O9evXlyRlZWXp7rvvVnR0tKpUqaLOnTvrp59+crVZVFSkoUOHKjo6WlWrVtWwYcN0+iPhT++yzs/P1+OPP674+HjZ7XbVq1dPM2fO1E8//aQOHTpIkipXriybzaZevXpJOvGq0PT0dCUmJioiIkLNmjXT+++/73acf/3rX7r88ssVERGhDh06uMXpqccff1yXX365KlSooDp16mjkyJEqLCwssd1rr72m+Ph4VahQQXfffbdycnLc1s+YMUMNGzZUeHi4GjRooFdffdXrWICyjAoZZUpERIR+++031/ySJUsUFRWlxYsXS5IKCwuVkpKipKQkffXVVypXrpyeeeYZ3Xjjjfr2228VFhamiRMnKiMjQ2+++aYaNmyoiRMnav78+br++uvPety//vWvWr16taZMmaJmzZpp9+7dOnTokOLj4/XBBx+oW7duyszMVFRUlCIiIiRJ6enp+sc//qHp06frsssu04oVK9SzZ09dcsklateunbKystS1a1elpaXpgQce0IYNG/TII494fU4iIyOVkZGhuLg4bdmyRf369VNkZKSGDRvm2mbnzp169913tWDBAjmdTvXp00f9+/fXnDlzJElz5szRqFGj9PLLL6tFixb6+uuv1a9fP1WsWFGpqalexwR4w+aD257Mv43KA6X2XimglKWmphqdO3c2DOPEK+wWL15s2O1249FHH3Wtj4mJcXvV3dtvv23Ur1/fKC4udi3Lz883IiIijM8//9wwDMOoUaOGMWHCBNf6wsJCo2bNmq5jGYb76xkzMzMNScbixYvPGOeXX35pSDL++OMP17K8vDyjQoUKxqpVq9y27dOnj3HvvfcahmEYI0aMMBo1auS2/vHHHy/R1ukkGfPnzz/r+ueff95o2bKla3706NFGaGio8csvv7iWffbZZ0ZISIjrFZN169Y15s6d69bO008/7Xon9O7duw1Jxtdff33W4wLeOvn6xazsP4yc40WmTlnZf5T66xepkBHUFi5cqEqVKqmwsFDFxcX6y1/+ojFjxrjWN2nSxG3c+JtvvtHOnTsVGRnp1k5eXp527dqlnJwc7d+/X61bt3atK1eunFq1alWi2/qkzZs3KzQ0VO3atfM47p07d+rYsWPq2LGj2/KCggK1aNFCkrRt2za3OCQpKSnJ42Oc9M4772jKlCnatWuXjh49qj///LPE6+Zq1aqlSy+91O04xcXFyszMVGRkpHbt2qU+ffqoX79+rm3+/PNPORwOr+MByioSMoJahw4dNG3aNIWFhSkuLk7lyrl/y1esWNFt/ujRo2rZsqWrK/ZUl1xyyQXFcLIL2htHjx6VJH366aduiVA6MS5ultWrV6tHjx4aO3asUlJS5HA4NG/ePE2cONHrWN94440SfyCEhoaaFitwNsHyticSMoJaxYoVVa9ePY+3v/LKK/XOO++oevXqZ30peY0aNbR27Vpdd911kk5Ughs3btSVV155xu2bNGmi4uJiLV++XMnJySXWn6zQi4qKXMsaNWoku92uPXv2nLWybtiwoesCtZPWrFlz/g95ilWrVikhIUFPPvmka9nPP/9cYrs9e/Zo3759iouLcx0nJCRE9evXV0xMjOLi4vTjjz+qR48eXh0fwP9wlTVwih49eqhatWrq3LmzvvrqK+3evVvLli3Tww8/rF9++UWSNGjQID333HP66KOPtH37dvXv3/+c9xDXrl1bqampuv/++/XRRx+52nz33XclSQkJCbLZbFq4cKF+/fVXHT16VJGRkXr00Uc1ZMgQzZ49W7t27dKmTZs0depUzZ49W5L04IMPaseOHXrssceUmZmpuXPnKiMjw6vPe9lll2nPnj2aN2+edu3apSlTpmj+/PkltgsPD1dqaqq++eYbffXVV3r44Yd19913KzY2VpI0duxYpaena8qUKfrhhx+0ZcsWzZo1S5MmTfIqHuCC2Hw0lTISMnCKChUqaMWKFapVq5a6du2qhg0bqk+fPsrLy3NVzI888ojuu+8+paamKikpSZGRkbrjjjvO2e60adN05513qn///mrQoIH69eun3NxcSdKll16qsWPHavjw4YqJidGAAQMkSU8//bRGjhyp9PR0NWzYUDfeeKM+/fRTJSYmSjoxrvvBBx/oo48+UrNmzTR9+nQ9++yzXn3e22+/XUOGDNGAAQPUvHlzrVq1SiNHjiyxXb169dS1a1fdfPPN6tSpk5o2bep2W1Pfvn01Y8YMzZo1S02aNFG7du2UkZHhihXA+dmMs12JAgBAAHM6nXI4HNp78PBZh5gupu1Lq0crJyfH9LbPhgoZAIAAwEVdAABLC5ZHZ5KQAQCWFiy3PdFlDQBAAKBCBgBYW5CUyFTIAACY5JVXXlHt2rUVHh6u1q1ba926dR7vS0IGAFiazUf/vPXOO+9o6NChGj16tDZt2qRmzZopJSVFBw8e9Gh/EjIAACaYNGmS+vXrp969e6tRo0aaPn26KlSooDfffNOj/UnIAABLO3nbk9mTNwoKCrRx40a359WHhIQoOTlZq1ev9qgNLuoCAFia0+n0WZunt22328/4xrVDhw6pqKhIMTExbstjYmK0fft2j45JQgYAWFJYWJhiY2N1WWK8T9qvVKmS4uPd2x49erTbO9XNREIGAFhSeHi4du/erYKCAp+0bxiGbKf1XZ/tfeTVqlVTaGiosrOz3ZZnZ2e73op2PiRkAIBlhYeHKzw83N9hKCwsTC1bttSSJUvUpUsXSVJxcbGWLFnieoPb+ZCQAQAwwdChQ5WamqpWrVrp6quv1uTJk5Wbm6vevXt7tD8JGQAAE9xzzz369ddfNWrUKB04cEDNmzfXokWLSlzodTa8DxkAgADAfcgAAAQAEjIAAAGAhAwAQAAgIQMAEABIyAAABAASMgAAAYCEDABAACAhAwAQAEjIAAAEABIyAAABgIQMAEAAICEDABAA/h+g1FVrLYs7ZAAAAABJRU5ErkJggg==",
      "text/plain": [
       "<Figure size 500x500 with 2 Axes>"
      ]
     },
     "metadata": {},
     "output_type": "display_data"
    }
   ],
   "source": [
    "visualize.plot_confusion_matrix(show_label=False)"
   ]
  }
 ],
 "metadata": {
  "kernelspec": {
   "display_name": ".venv",
   "language": "python",
   "name": "python3"
  },
  "language_info": {
   "codemirror_mode": {
    "name": "ipython",
    "version": 3
   },
   "file_extension": ".py",
   "mimetype": "text/x-python",
   "name": "python",
   "nbconvert_exporter": "python",
   "pygments_lexer": "ipython3",
   "version": "3.10.12"
  }
 },
 "nbformat": 4,
 "nbformat_minor": 2
}
